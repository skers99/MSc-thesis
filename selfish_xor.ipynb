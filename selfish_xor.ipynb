{
 "cells": [
  {
   "cell_type": "code",
   "execution_count": 54,
   "metadata": {},
   "outputs": [],
   "source": [
    "from xor_data import xor_dataloaders\n",
    "import torch\n",
    "in_dim = 100\n",
    "time = 100\n",
    "samples_per_type = 100\n",
    "batch_size = 20\n",
    "\n",
    "train_loader, test_loader = xor_dataloaders(in_dim=in_dim,time=time,samples_per_type=samples_per_type,batch_size=batch_size)\n"
   ]
  },
  {
   "cell_type": "code",
   "execution_count": 48,
   "metadata": {},
   "outputs": [
    {
     "name": "stdout",
     "output_type": "stream",
     "text": [
      "device: cuda\n"
     ]
    }
   ],
   "source": [
    "if torch.cuda.is_available():\n",
    "    device = torch.device(\"cuda\")\n",
    "    print(f'device: {device}')\n",
    "else:\n",
    "    device = torch.device(\"cpu\")\n",
    "    print(f'device: {device}')"
   ]
  },
  {
   "cell_type": "code",
   "execution_count": 71,
   "metadata": {},
   "outputs": [
    {
     "name": "stdout",
     "output_type": "stream",
     "text": [
      "Removed 2 layers.\n",
      "layers.0.fc_layer.weight 0\n",
      "layers.1.fc_layer.weight 0\n",
      "Death rate: 0.5\n",
      "\n",
      "layers.0.fc_layer.weight 1037\n",
      "layers.1.fc_layer.weight 17\n",
      "Death rate: 0.5\n",
      "\n"
     ]
    }
   ],
   "source": [
    "from LIFlayer import NHiddenModel\n",
    "import torch\n",
    "from Selfish_RNN.sparse_rnn_core import Masking,CosineDecay\n",
    "\n",
    "num_hidden_layers = 0\n",
    "in_channels = in_dim\n",
    "hidden_channels = in_channels\n",
    "out_channels = 2\n",
    "with_recurrent = False\n",
    "\n",
    "epochs=10\n",
    "\n",
    "model = NHiddenModel(num_hidden_layers=num_hidden_layers,in_channels=in_channels,hidden_channels=hidden_channels,out_channels=out_channels,with_recurrent=with_recurrent).to(device)\n",
    "optimizer = torch.optim.Adam(model.parameters(),lr=1e-3)\n",
    "loss = torch.nn.CrossEntropyLoss()\n",
    "\n",
    "#masking vars\n",
    "death_rate = .5\n",
    "decay_steps = len(train_loader) * epochs\n",
    "density = .1\n",
    "\n",
    "mask = None\n",
    "cos_decay = CosineDecay(death_rate,decay_steps)\n",
    "mask = Masking(optimizer,death_rate_decay=cos_decay,death_rate=death_rate,growth_mode='random',redistribution_mode='none')\n",
    "mask.add_module(model,density=density)\n",
    "mask.init(density=density)"
   ]
  },
  {
   "cell_type": "code",
   "execution_count": 73,
   "metadata": {},
   "outputs": [
    {
     "name": "stderr",
     "output_type": "stream",
     "text": [
      "accuracy: 0.4906250089406967:  10%|█         | 1/10 [00:01<00:10,  1.16s/it]"
     ]
    },
    {
     "name": "stdout",
     "output_type": "stream",
     "text": [
      "Name: layers.0.fc_layer.weight pruning_rate 0.4879459980713597\n",
      "Name: layers.1.fc_layer.weight pruning_rate 0.5294117647058824\n",
      "1054.0 1020.0 -42.0\n",
      "old, new nonzero count: 1054.0 1044 -42.0\n",
      "layers.0.fc_layer.weight: 1037.0->1023, density: 0.102, proportion: 0.5000\n",
      "layers.1.fc_layer.weight: 17.0->21, density: 0.105, proportion: 0.5000\n",
      "Death rate: 0.4878864877830505\n",
      "\n",
      "tensor(8984)\n"
     ]
    },
    {
     "name": "stderr",
     "output_type": "stream",
     "text": [
      "accuracy: 0.6750000193715096:  20%|██        | 2/10 [00:02<00:09,  1.14s/it]"
     ]
    },
    {
     "name": "stdout",
     "output_type": "stream",
     "text": [
      "Error resolving the residual! Layers are too full! Residual left over: 2.842170943040401e-14\n",
      "Name: layers.0.fc_layer.weight pruning_rate 0.45356793743890517\n",
      "Name: layers.1.fc_layer.weight pruning_rate 0.47619047619047616\n",
      "1044.0 1020.0 -43.75\n",
      "old, new nonzero count: 1044.0 1037 -43.75\n",
      "layers.0.fc_layer.weight: 1023.0->1021, density: 0.102, proportion: 0.5000\n",
      "layers.1.fc_layer.weight: 21.0->16, density: 0.080, proportion: 0.5000\n",
      "Death rate: 0.4527317061077995\n",
      "\n",
      "tensor(8987)\n"
     ]
    },
    {
     "name": "stderr",
     "output_type": "stream",
     "text": [
      "accuracy: 0.9156250096857548:  30%|███       | 3/10 [00:03<00:08,  1.15s/it]"
     ]
    },
    {
     "name": "stdout",
     "output_type": "stream",
     "text": [
      "Name: layers.0.fc_layer.weight pruning_rate 0.39862879529872675\n",
      "Name: layers.1.fc_layer.weight pruning_rate 0.4375\n",
      "1037.0 1020.0 -27.854166666666664\n",
      "old, new nonzero count: 1037.0 1023 -27.854166666666664\n",
      "layers.0.fc_layer.weight: 1021.0->1010, density: 0.101, proportion: 0.5000\n",
      "layers.1.fc_layer.weight: 16.0->13, density: 0.065, proportion: 0.5000\n",
      "Death rate: 0.397976849942387\n",
      "\n",
      "tensor(8992)\n"
     ]
    },
    {
     "name": "stderr",
     "output_type": "stream",
     "text": [
      "accuracy: 1.0:  40%|████      | 4/10 [00:04<00:06,  1.15s/it]               "
     ]
    },
    {
     "name": "stdout",
     "output_type": "stream",
     "text": [
      "Name: layers.0.fc_layer.weight pruning_rate 0.3297029702970297\n",
      "Name: layers.1.fc_layer.weight pruning_rate 0.38461538461538464\n",
      "1023.0 1020.0 -77.96354166666666\n",
      "old, new nonzero count: 1023.0 1080 -77.96354166666666\n",
      "layers.0.fc_layer.weight: 1010.0->1064, density: 0.106, proportion: 0.5000\n",
      "layers.1.fc_layer.weight: 13.0->16, density: 0.080, proportion: 0.5000\n",
      "Death rate: 0.3289817061077995\n",
      "\n",
      "tensor(8942)\n"
     ]
    },
    {
     "name": "stderr",
     "output_type": "stream",
     "text": [
      "accuracy: 0.9812499992549419:  50%|█████     | 5/10 [00:05<00:05,  1.15s/it]"
     ]
    },
    {
     "name": "stdout",
     "output_type": "stream",
     "text": [
      "Name: layers.0.fc_layer.weight pruning_rate 0.25281954887218044\n",
      "Name: layers.1.fc_layer.weight pruning_rate 0.3125\n",
      "1080.0 1020.0 -70.69088541666666\n",
      "old, new nonzero count: 1080.0 1052 -70.69088541666666\n",
      "layers.0.fc_layer.weight: 1064.0->1036, density: 0.104, proportion: 0.5000\n",
      "layers.1.fc_layer.weight: 16.0->16, density: 0.080, proportion: 0.5000\n",
      "Death rate: 0.2524999999999999\n",
      "\n",
      "tensor(8965)\n"
     ]
    },
    {
     "name": "stderr",
     "output_type": "stream",
     "text": [
      "accuracy: 1.0:  60%|██████    | 6/10 [00:06<00:04,  1.15s/it]               "
     ]
    },
    {
     "name": "stdout",
     "output_type": "stream",
     "text": [
      "Name: layers.0.fc_layer.weight pruning_rate 0.17664092664092665\n",
      "Name: layers.1.fc_layer.weight pruning_rate 0.1875\n",
      "1052.0 1020.0 -71.5060546875\n",
      "old, new nonzero count: 1052.0 1054 -71.5060546875\n",
      "layers.0.fc_layer.weight: 1036.0->1041, density: 0.104, proportion: 0.5000\n",
      "layers.1.fc_layer.weight: 16.0->13, density: 0.065, proportion: 0.5000\n",
      "Death rate: 0.17601829389220044\n",
      "\n",
      "tensor(8960)\n"
     ]
    },
    {
     "name": "stderr",
     "output_type": "stream",
     "text": [
      "accuracy: 1.0:  70%|███████   | 7/10 [00:08<00:03,  1.15s/it]"
     ]
    },
    {
     "name": "stdout",
     "output_type": "stream",
     "text": [
      "Name: layers.0.fc_layer.weight pruning_rate 0.10758885686839577\n",
      "Name: layers.1.fc_layer.weight pruning_rate 0.15384615384615385\n",
      "1054.0 1020.0 -72.51937081473214\n",
      "old, new nonzero count: 1054.0 1054 -72.51937081473214\n",
      "layers.0.fc_layer.weight: 1041.0->1035, density: 0.103, proportion: 0.5000\n",
      "layers.1.fc_layer.weight: 13.0->19, density: 0.095, proportion: 0.5000\n",
      "Death rate: 0.10702315005761284\n",
      "\n",
      "tensor(8965)\n"
     ]
    },
    {
     "name": "stderr",
     "output_type": "stream",
     "text": [
      "accuracy: 1.0:  80%|████████  | 8/10 [00:09<00:02,  1.14s/it]"
     ]
    },
    {
     "name": "stdout",
     "output_type": "stream",
     "text": [
      "Name: layers.0.fc_layer.weight pruning_rate 0.05314009661835749\n",
      "Name: layers.1.fc_layer.weight pruning_rate 0.05263157894736842\n",
      "1054.0 1020.0 -71.62984270368304\n",
      "old, new nonzero count: 1054.0 1052 -71.62984270368304\n",
      "layers.0.fc_layer.weight: 1035.0->1034, density: 0.103, proportion: 0.5000\n",
      "layers.1.fc_layer.weight: 19.0->18, density: 0.090, proportion: 0.5000\n",
      "Death rate: 0.05226829389220049\n",
      "\n",
      "tensor(8966)\n"
     ]
    },
    {
     "name": "stderr",
     "output_type": "stream",
     "text": [
      "accuracy: 1.0:  90%|█████████ | 9/10 [00:10<00:01,  1.14s/it]"
     ]
    },
    {
     "name": "stdout",
     "output_type": "stream",
     "text": [
      "Name: layers.0.fc_layer.weight pruning_rate 0.017408123791102514\n",
      "Name: layers.1.fc_layer.weight pruning_rate 0.05555555555555555\n",
      "1052.0 1020.0 -69.96301623147632\n",
      "old, new nonzero count: 1052.0 1050 -69.96301623147632\n",
      "layers.0.fc_layer.weight: 1034.0->1033, density: 0.103, proportion: 0.5000\n",
      "layers.1.fc_layer.weight: 18.0->17, density: 0.085, proportion: 0.5000\n",
      "Death rate: 0.017113512216949484\n",
      "\n",
      "tensor(8967)\n"
     ]
    },
    {
     "name": "stderr",
     "output_type": "stream",
     "text": [
      "accuracy: 1.0: 100%|██████████| 10/10 [00:11<00:00,  1.14s/it]"
     ]
    },
    {
     "name": "stdout",
     "output_type": "stream",
     "text": [
      "Name: layers.0.fc_layer.weight pruning_rate 0.005808325266214908\n",
      "Name: layers.1.fc_layer.weight pruning_rate 0.058823529411764705\n",
      "1050.0 1020.0 -78.09075405786908\n",
      "old, new nonzero count: 1050.0 1060 -78.09075405786908\n",
      "layers.0.fc_layer.weight: 1033.0->1043, density: 0.104, proportion: 0.5000\n",
      "layers.1.fc_layer.weight: 17.0->17, density: 0.085, proportion: 0.5000\n",
      "Death rate: 0.005\n",
      "\n",
      "tensor(8957)\n"
     ]
    },
    {
     "name": "stderr",
     "output_type": "stream",
     "text": [
      "\n"
     ]
    }
   ],
   "source": [
    "from tqdm import trange\n",
    "\n",
    "\n",
    "\n",
    "decay = .99\n",
    "tepochs = trange(epochs,desc=f'accuracy')\n",
    "#print((model.layers[0].fc_layer.weight.data.cpu()==0).sum())\n",
    "layer_vis={}\n",
    "for e in tepochs:\n",
    "    #print((model.layers[0].fc_layer.weight.data.cpu() !=0).sum())\n",
    "    layer_vis[f'epoch_{e}_layer_0'] = model.layers[0].fc_layer.weight.data.cpu() ==0\n",
    "    layer_vis[f'epoch_{e}_layer_1'] = model.layers[1].fc_layer.weight.data.cpu() ==0 \n",
    "    #layer_vis[f'epoch_{e}_layer_2'] = model.layers[2].fc_layer.weight.data.cpu() ==0\n",
    "    mean_loss = []\n",
    "    mean_acc = []\n",
    "    for x,label in train_loader:\n",
    "        model.init_states()\n",
    "        Sprobe = torch.zeros((train_loader.batch_size,model.out_channels),device=device)\n",
    "        x = x.float().to(device)\n",
    "        label=label.to(device)\n",
    "        optimizer.zero_grad()\n",
    "        for n in range(time):\n",
    "            out_state = model(x[:,n])\n",
    "            Sprobe = decay * Sprobe + out_state.S\n",
    "        \n",
    "        prediction = Sprobe\n",
    "        accuracy = (label == prediction.argmax(axis=1)).sum()/len(prediction)\n",
    "        batch_loss = loss(prediction,label)\n",
    "        mean_loss.append(batch_loss.item())\n",
    "        mean_acc.append(accuracy.item())\n",
    "        batch_loss.backward()\n",
    "        if mask is not None: mask.step()\n",
    "        else: optimizer.step()\n",
    "        optimizer.step()\n",
    "    #truncate and grow weights\n",
    "    \n",
    "    mask.at_end_of_epoch(e)\n",
    "\n",
    "    \n",
    "    \n",
    "    mean_loss = sum(mean_loss)/len(train_loader)\n",
    "    mean_acc = sum(mean_acc)/len(train_loader)\n",
    "    tepochs.set_description(f'accuracy: {mean_acc}')\n",
    "    print((model.layers[0].fc_layer.weight.data.cpu()==0).sum())"
   ]
  },
  {
   "cell_type": "code",
   "execution_count": 65,
   "metadata": {},
   "outputs": [
    {
     "name": "stdout",
     "output_type": "stream",
     "text": [
      "tensor(8970)\n"
     ]
    }
   ],
   "source": [
    "print((model.layers[0].fc_layer.weight.data.cpu()==0).sum())"
   ]
  },
  {
   "cell_type": "code",
   "execution_count": 74,
   "metadata": {},
   "outputs": [
    {
     "data": {
      "text/plain": [
       "<matplotlib.colorbar.Colorbar at 0x7fbc34046f40>"
      ]
     },
     "execution_count": 74,
     "metadata": {},
     "output_type": "execute_result"
    },
    {
     "data": {
      "image/png": "[encoded data removed]",
      "text/plain": [
       "<Figure size 432x288 with 2 Axes>"
      ]
     },
     "metadata": {
      "needs_background": "light"
     },
     "output_type": "display_data"
    }
   ],
   "source": [
    "import matplotlib.pyplot as plt\n",
    "plt.imshow(model.layers[0].fc_layer.weight.data.cpu())\n",
    "plt.colorbar()"
   ]
  },
  {
   "cell_type": "code",
   "execution_count": null,
   "metadata": {},
   "outputs": [],
   "source": []
  }
 ],
 "metadata": {
  "interpreter": {
   "hash": "fa49628190029e2d0794fd6aac1f35e1d10c3ca2aaa40697d2a44a2aa6659ca3"
  },
  "kernelspec": {
   "display_name": "Python 3.8.10 ('.venv': venv)",
   "language": "python",
   "name": "python3"
  },
  "language_info": {
   "codemirror_mode": {
    "name": "ipython",
    "version": 3
   },
   "file_extension": ".py",
   "mimetype": "text/x-python",
   "name": "python",
   "nbconvert_exporter": "python",
   "pygments_lexer": "ipython3",
   "version": "3.8.10"
  },
  "orig_nbformat": 4
 },
 "nbformat": 4,
 "nbformat_minor": 2
}
