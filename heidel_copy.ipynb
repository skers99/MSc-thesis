{
 "cells": [
  {
   "cell_type": "code",
   "execution_count": 1,
   "metadata": {},
   "outputs": [
    {
     "data": {
      "text/plain": [
       "<module 'heidel_utils' from '/Users/kerstjens/msc_thesis/msc_thesis/heidel_utils.py'>"
      ]
     },
     "execution_count": 1,
     "metadata": {},
     "output_type": "execute_result"
    }
   ],
   "source": [
    "import os\n",
    "import h5py\n",
    "\n",
    "import numpy as np\n",
    "import matplotlib.pyplot as plt\n",
    "from matplotlib.gridspec import GridSpec\n",
    "import seaborn as sns\n",
    "\n",
    "import torch\n",
    "import torch.nn as nn\n",
    "import torchvision\n",
    "from torch.utils import data\n",
    "import heidel_utils\n",
    "from importlib import reload # reload \n",
    "reload(heidel_utils)\n"
   ]
  },
  {
   "cell_type": "code",
   "execution_count": 2,
   "metadata": {},
   "outputs": [],
   "source": [
    "from LIFlayer import OneRecHiddenModel"
   ]
  },
  {
   "cell_type": "code",
   "execution_count": 3,
   "metadata": {},
   "outputs": [
    {
     "name": "stdout",
     "output_type": "stream",
     "text": [
      "device: cuda\n"
     ]
    }
   ],
   "source": [
    "if torch.cuda.is_available():\n",
    "    device = torch.device(\"cuda\")\n",
    "    print(f'device: {device}')\n",
    "else:\n",
    "    device = torch.device(\"cpu\")\n",
    "    print(f'device: {device}')"
   ]
  },
  {
   "cell_type": "code",
   "execution_count": null,
   "metadata": {},
   "outputs": [],
   "source": []
  },
  {
   "cell_type": "code",
   "execution_count": 12,
   "metadata": {},
   "outputs": [],
   "source": [
    "import numpy as np\n",
    "import matplotlib.pyplot as plt\n",
    "from modularities_notebooks.modularity import clustered_connections, print_weight_matrix, compute_density_matrix, plot_connection_matrices\n",
    "from sklearn.preprocessing import StandardScaler\n",
    "\n",
    "N = 200\n",
    "n_assemblies = 4\n",
    "epsilon =1\n",
    "base_w = 1\n",
    "w_scale = [10]\n",
    "w = 1\n",
    "ss = StandardScaler()\n",
    "mask, cluster_ids, _ = clustered_connections(n_neurons=N, n_clusters=n_assemblies, density=1./n_assemblies, modularity=1.)\n",
    "mask = (mask* (base_w*w)) + base_w\n",
    "\n",
    "W, cluster_ids, t = clustered_connections(n_neurons=N, n_clusters=n_assemblies, density=epsilon, modularity=0.)\n",
    "if w > 0.:\n",
    "    W *= base_w\n",
    "    W *= mask\n",
    "W2 = (W != 0).astype(int)\n",
    "W = W-1\n",
    "W = torch.tensor(W,device=device)\n",
    "W2 = torch.tensor(W2,device=device)"
   ]
  },
  {
   "cell_type": "code",
   "execution_count": null,
   "metadata": {},
   "outputs": [],
   "source": [
    "#from collections import namedtuple\n",
    "#NeuronState = namedtuple('NeuronState', ['U', 'I', 'S'])\n",
    "#class LIFDensePopulation(nn.Module):\n",
    "#    # NeuronState = namedtuple('NeuronState', ['U', 'I', 'S'])\n",
    "#    def __init__(self, in_channels, out_channels,device='cpu', bias=True, alpha = .9, beta=.85, batch_size=10,W=None):\n",
    "#        super(LIFDensePopulation, self).__init__()\n",
    "#        self.fc_layer = nn.Linear(in_channels, out_channels)\n",
    "#        self.in_channels = in_channels\n",
    "#        self.device = device\n",
    "#        self.out_channels = out_channels\n",
    "#        self.batch_size = batch_size\n",
    "#        self.weight_scale = 0.2\n",
    "#        self.alpha = alpha\n",
    "#        self.beta = beta\n",
    "#        self.state = NeuronState(U=torch.zeros(batch_size, out_channels).to(self.device),\n",
    "#                                 I=torch.zeros(batch_size, out_channels).to(self.device),\n",
    "#                                 S=torch.zeros(batch_size, out_channels).to(self.device))\n",
    "#        self.NeuronState = self.state\n",
    "#        self.fc_layer.weight.data.normal_(mean=0.0, std=self.weight_scale/np.sqrt(in_channels))\n",
    "#        #torch.nn.init.normal_(self.fc_layer.weight.data, mean=0.0, std=self.weight_scale/np.sqrt(nb_inputs))\n",
    "#        self.fc_layer.bias.data.uniform_(-.01, .01)\n",
    "#\n",
    "#\n",
    "#    def forward(self, Sin_t):\n",
    "#        state = self.state\n",
    "#        U = self.alpha*state.U + state.I - state.S #mem\n",
    "#        I = self.beta*state.I + self.fc_layer(Sin_t) #syn\n",
    "#        # update the neuronal state\n",
    "#        S = smooth_step(U)\n",
    "#        self.state = NeuronState(U=U, I=I, S=S)\n",
    "#        self.NeuronState = self.state\n",
    "#        #state = NeuronState(U=U, I=I, S=S)\n",
    "#        return self.state\n",
    "#\n",
    "#    def init_state(self):\n",
    "#\n",
    "#        out_channels = self.out_channels\n",
    "#        self.state = NeuronState(U=torch.zeros(self.batch_size, out_channels,device=self.device),\n",
    "#                                 I=torch.zeros(self.batch_size, out_channels,device=self.device),\n",
    "#                                 S=torch.zeros(self.batch_size, out_channels,device=self.device))\n",
    "#        self.NeuronState = self.state\n",
    "#\n",
    "#    def init_mod_weights(self,W):\n",
    "#        self.fc_layer.weight = torch.nn.Parameter(self.fc_layer.weight.data * torch.tensor(W,dtype=float))\n",
    "#        \n",
    "#class LifRecPopulation(nn.Module):\n",
    "#    # NeuronState = namedtuple('NeuronState', ['U', 'I', 'S'])\n",
    "#    def __init__(self, in_channels, out_channels, bias=True, alpha = .9, beta=.85, batch_size=10,W=None,device='cpu'):\n",
    "#        super(LifRecPopulation, self).__init__()\n",
    "#        self.fc_layer = nn.Linear(in_channels, out_channels)\n",
    "#        self.rec_layer = nn.Linear(out_channels, out_channels)\n",
    "#        self.in_channels = in_channels\n",
    "#        self.out_channels = out_channels\n",
    "#        self.batch_size = batch_size\n",
    "#        self.device = device\n",
    "#        self.weight_scale = 0.2\n",
    "#        self.alpha = alpha\n",
    "#        self.beta = beta\n",
    "#        self.state = NeuronState(U=torch.zeros(batch_size, out_channels).to(self.device),\n",
    "#                                 I=torch.zeros(batch_size, out_channels).to(self.device),\n",
    "#                                 S=torch.zeros(batch_size, out_channels).to(self.device))\n",
    "#        self.NeuronState = self.state\n",
    "#        #torch.nn.init.normal_(self.fc_layer.weight.data, mean=0.0, std=self.weight_scale/np.sqrt(nb_inputs))\n",
    "#        self.fc_layer.weight.data.normal_(mean=0.0, std=self.weight_scale/np.sqrt(in_channels))\n",
    "#        self.fc_layer.bias.data.uniform_(-.01, .01)\n",
    "#        #torch.nn.init.normal_(self.rec_layer.weight.data, mean=0.0, std=self.weight_scale/np.sqrt(nb_inputs))\n",
    "#        self.rec_layer.bias.data.uniform_(-.01, .01)\n",
    "#        self.rec_layer.weight.data.normal_(mean=0.0, std=self.weight_scale/np.sqrt(in_channels))\n",
    "#\n",
    "#\n",
    "#    def forward(self, Sin_t):\n",
    "#        state = self.state\n",
    "#        U = self.alpha*state.U + state.I - state.S.detach() #mem\n",
    "#        I = self.beta*state.I + self.fc_layer(Sin_t) + self.rec_layer(state.S) #syn\n",
    "#        # update the neuronal state\n",
    "#        S = smooth_step(U)\n",
    "#        self.state = NeuronState(U=U, I=I, S=S)\n",
    "#        self.NeuronState = self.state\n",
    "#        #state = NeuronState(U=U, I=I, S=S)\n",
    "#        return self.state\n",
    "#\n",
    "#    def init_state(self):\n",
    "#\n",
    "#        out_channels = self.out_channels\n",
    "#        self.state = NeuronState(U=torch.zeros(self.batch_size, out_channels,device=device),\n",
    "#                                 I=torch.zeros(self.batch_size, out_channels,device=device),\n",
    "#                                 S=torch.zeros(self.batch_size, out_channels,device=device))\n",
    "#        self.NeuronState = self.state\n",
    "#\n",
    "#    def init_mod_weights(self,W):\n",
    "#        self.fc_layer.weight = torch.nn.Parameter(self.fc_layer.weight.data * torch.tensor(W))\n",
    "#\n",
    "#class SmoothStep(torch.autograd.Function):\n",
    "#    '''\n",
    "#    Modified from: https://pytorch.org/tutorials/beginner/examples_autograd/two_layer_net_custom_function.html\n",
    "#    '''\n",
    "#    scale = 100.0\n",
    "#    @staticmethod\n",
    "#    def forward(aux, x):\n",
    "#        \"\"\"\n",
    "#        In the forward pass we compute a step function of the input Tensor\n",
    "#        and return it. ctx is a context object that we use to stash information which\n",
    "#        we need to later backpropagate our error signals. To achieve this we use the\n",
    "#        ctx.save_for_backward method.\n",
    "#        \"\"\"\n",
    "#        aux.save_for_backward(x)\n",
    "#        out = torch.zeros_like(x)\n",
    "#\n",
    "#        out[x > 0] = 1.0\n",
    "#        return out\n",
    "#\n",
    "#    def backward(aux, grad_output):\n",
    "#        \n",
    "#        #grad_input = grad_output.clone()\n",
    "#        input, = aux.saved_tensors\n",
    "#        grad_input = grad_output.clone()\n",
    "#        grad = grad_input/(SmoothStep.scale*torch.abs(input)+1.0)**2\n",
    "#        return grad\n",
    "#smooth_step = SmoothStep().apply\n",
    "#\n",
    "#class OneHiddenModel(nn.Module):\n",
    "#\n",
    "#    def __init__(self,in_channels,hidden_channels,out_channels,batch_size,alpha=.9,beta=.85,device='cpu',W=None):\n",
    "#        super(OneHiddenModel, self).__init__()\n",
    "#\n",
    "#        self.in_channels = in_channels\n",
    "#        self.hidden_channels = hidden_channels\n",
    "#        self.out_channels = out_channels\n",
    "#        self.alpha = alpha\n",
    "#        self.beta = beta\n",
    "#        self.batch_size = batch_size\n",
    "#        self.device = device\n",
    "#        self.W = W\n",
    "#        self.layer1 = LIFDensePopulation(in_channels=self.in_channels,out_channels=self.hidden_channels,\n",
    "#                                         alpha=self.alpha,beta=self.beta,batch_size=self.batch_size,W=W).to(device)\n",
    "#        self.layer2 = LIFDensePopulation(in_channels=self.hidden_channels,out_channels=self.out_channels,\n",
    "#                                         alpha=self.alpha,beta=self.beta,batch_size=self.batch_size).to(device)\n",
    "#\n",
    "#    def forward(self,Sin):\n",
    "#        hidden = self.layer1(Sin)\n",
    "#        out = self.layer2(hidden.S)\n",
    "#        return out\n",
    "#\n",
    "#    def init_states(self):\n",
    "#        self.layer1.init_state()\n",
    "#        self.layer2.init_state()\n",
    "#\n",
    "#    def init_mod_weights(self,W):\n",
    "#        self.layer1.fc_layer.weight = torch.nn.Parameter(self.layer1.fc_layer.weight.data * torch.Tensor(W))\n",
    "#\n",
    "#class OneRecHiddenModel(nn.Module):\n",
    "#\n",
    "#    def __init__(self,in_channels,hidden_channels,out_channels,batch_size,alpha=.9,beta=.85,device='cpu',W=None):\n",
    "#        super(OneRecHiddenModel, self).__init__()\n",
    "#\n",
    "#        self.in_channels = in_channels\n",
    "#        self.hidden_channels = hidden_channels\n",
    "#        self.out_channels = out_channels\n",
    "#        self.alpha = alpha\n",
    "#        self.beta = beta\n",
    "#        self.batch_size = batch_size\n",
    "#        self.device = device\n",
    "#        self.W = W\n",
    "#        self.layer1 = LIFDensePopulation(in_channels=self.in_channels,out_channels=self.hidden_channels,\n",
    "#                                         alpha=self.alpha,beta=self.beta,batch_size=self.batch_size,W=W).to(device)\n",
    "#        self.layer2 = LifRecPopulation(in_channels=self.hidden_channels,out_channels=self.hidden_channels,\n",
    "#                                         alpha=self.alpha,beta=self.beta,batch_size=self.batch_size,W=W).to(device)\n",
    "#        self.layer3 = LIFDensePopulation(in_channels=self.hidden_channels,out_channels=self.out_channels,\n",
    "#                                         alpha=self.alpha,beta=self.beta,batch_size=self.batch_size).to(device)\n",
    "#\n",
    "#    def forward(self,Sin):\n",
    "#        hidden1 = self.layer1(Sin)\n",
    "#        hidden2 = self.layer2(hidden1.S)\n",
    "#        out = self.layer3(hidden2.S)\n",
    "#        return out\n",
    "#\n",
    "#    def init_states(self):\n",
    "#        self.layer1.init_state()\n",
    "#        self.layer2.init_state()\n",
    "#        self.layer3.init_state()\n",
    "#\n",
    "#    def init_mod_weights(self,W):\n",
    "#        self.layer2.fc_layer.weight = torch.nn.Parameter((self.layer2.fc_layer.weight.data * W).to(torch.float32))\n",
    "#\n",
    "#class ThreeHiddenModel(nn.Module):\n",
    "#\n",
    "#    def __init__(self,in_channels,hidden_channels,out_channels,batch_size,alpha=.9,beta=.85,device='cpu',W=None):\n",
    "#        super(ThreeHiddenModel, self).__init__()\n",
    "#\n",
    "#        self.in_channels = in_channels\n",
    "#        self.hidden_channels = hidden_channels\n",
    "#        self.out_channels = out_channels\n",
    "#        self.alpha = alpha\n",
    "#        self.beta = beta\n",
    "#        self.batch_size = batch_size\n",
    "#        self.device = device\n",
    "#        self.W = W\n",
    "#        self.layer1 = LIFDensePopulation(in_channels=self.in_channels,out_channels=self.hidden_channels,\n",
    "#                                         alpha=self.alpha,beta=self.beta,batch_size=self.batch_size,W=W).to(device)\n",
    "#        self.layer2 = LIFDensePopulation(in_channels=self.hidden_channels,out_channels=self.hidden_channels,\n",
    "#                                         alpha=self.alpha,beta=self.beta,batch_size=self.batch_size).to(device)\n",
    "#        self.layer3 = LIFDensePopulation(in_channels=self.hidden_channels,out_channels=self.hidden_channels,\n",
    "#                                         alpha=self.alpha,beta=self.beta,batch_size=self.batch_size).to(device)\n",
    "#        self.layer4 = LIFDensePopulation(in_channels=self.hidden_channels,out_channels=self.hidden_channels,\n",
    "#                                         alpha=self.alpha,beta=self.beta,batch_size=self.batch_size).to(device)\n",
    "#        self.layer5 = LIFDensePopulation(in_channels=self.hidden_channels,out_channels=self.out_channels,\n",
    "#                                         alpha=self.alpha,beta=self.beta,batch_size=self.batch_size).to(device)\n",
    "#\n",
    "#    def forward(self,Sin):\n",
    "#        hidden1 = self.layer1(Sin)\n",
    "#        hidden2 = self.layer2(hidden1.S)\n",
    "#        hidden3 = self.layer3(hidden2.S)\n",
    "#        hidden4 = self.layer4(hidden3.S)\n",
    "#        out = self.layer5(hidden4.S)\n",
    "#        return out\n",
    "#\n",
    "#    def init_states(self):\n",
    "#        self.layer1.init_state()\n",
    "#        self.layer2.init_state()\n",
    "#        self.layer3.init_state()\n",
    "#        self.layer4.init_state()\n",
    "#        self.layer5.init_state()\n",
    "#\n",
    "#    def init_mod_weights(self,W):\n",
    "#        self.layer1.fc_layer.weight = torch.nn.Parameter(self.layer1.fc_layer.weight.data * torch.Tensor(W))\n",
    "#        self.layer2.fc_layer.weight = torch.nn.Parameter(self.layer2.fc_layer.weight.data * torch.Tensor(W))\n",
    "#        self.layer3.fc_layer.weight = torch.nn.Parameter(self.layer3.fc_layer.weight.data * torch.Tensor(W))\n",
    "#        self.layer4.fc_layer.weight = torch.nn.Parameter(self.layer4.fc_layer.weight.data * torch.Tensor(W))\n",
    "#\n",
    "#\n",
    "#class FiveHiddenModel(nn.Module):\n",
    "#\n",
    "#    def __init__(self,in_channels,hidden_channels,out_channels,batch_size,alpha=.9,beta=.85,device='cpu',W=None):\n",
    "#        super(FiveHiddenModel, self).__init__()\n",
    "#\n",
    "#        self.in_channels = in_channels\n",
    "#        self.hidden_channels = hidden_channels\n",
    "#        self.out_channels = out_channels\n",
    "#        self.alpha = alpha\n",
    "#        self.beta = beta\n",
    "#        self.batch_size = batch_size\n",
    "#        self.device = device\n",
    "#        self.W = W\n",
    "#        self.layer1 = LIFDensePopulation(in_channels=self.in_channels,out_channels=self.hidden_channels,\n",
    "#                                         alpha=self.alpha,beta=self.beta,batch_size=self.batch_size,W=W).to(device)\n",
    "#        self.layer2 = LIFDensePopulation(in_channels=self.hidden_channels,out_channels=self.hidden_channels,\n",
    "#                                         alpha=self.alpha,beta=self.beta,batch_size=self.batch_size).to(device)\n",
    "#        self.layer3 = LIFDensePopulation(in_channels=self.hidden_channels,out_channels=self.hidden_channels,\n",
    "#                                         alpha=self.alpha,beta=self.beta,batch_size=self.batch_size).to(device)\n",
    "#        self.layer4 = LIFDensePopulation(in_channels=self.hidden_channels,out_channels=self.hidden_channels,\n",
    "#                                         alpha=self.alpha,beta=self.beta,batch_size=self.batch_size).to(device)\n",
    "#        self.layer5 = LIFDensePopulation(in_channels=self.hidden_channels,out_channels=self.hidden_channels,\n",
    "#                                        alpha=self.alpha,beta=self.beta,batch_size=self.batch_size).to(device)\n",
    "#        self.layer6 = LIFDensePopulation(in_channels=self.hidden_channels,out_channels=self.hidden_channels,\n",
    "#                                         alpha=self.alpha,beta=self.beta,batch_size=self.batch_size).to(device)\n",
    "#        self.layer7 = LIFDensePopulation(in_channels=self.hidden_channels,out_channels=self.out_channels,\n",
    "#                                         alpha=self.alpha,beta=self.beta,batch_size=self.batch_size).to(device)\n",
    "#        #maybe try last layer non- spiking\n",
    "#\n",
    "#    def forward(self,Sin):\n",
    "#        hidden1 = self.layer1(Sin)\n",
    "#        hidden2 = self.layer2(hidden1.S)\n",
    "#        hidden3 = self.layer3(hidden2.S)\n",
    "#        hidden4 = self.layer4(hidden3.S)\n",
    "#        hidden5 = self.layer5(hidden4.S)\n",
    "#        hidden6 = self.layer6(hidden5.S)\n",
    "#        out = self.layer7(hidden6.S)\n",
    "#        return out\n",
    "#\n",
    "#    def init_states(self):\n",
    "#        self.layer1.init_state()\n",
    "#        self.layer2.init_state()\n",
    "#        self.layer3.init_state()\n",
    "#        self.layer4.init_state()\n",
    "#        self.layer5.init_state()\n",
    "#        self.layer6.init_state()\n",
    "#        self.layer7.init_state()\n",
    "#\n",
    "#    def init_mod_weights(self,W):\n",
    "#        self.layer1.fc_layer.weight = torch.nn.Parameter(self.layer1.fc_layer.weight.data * W)\n",
    "#        self.layer2.fc_layer.weight = torch.nn.Parameter(self.layer2.fc_layer.weight.data * W)\n",
    "#        self.layer3.fc_layer.weight = torch.nn.Parameter(self.layer3.fc_layer.weight.data * W)\n",
    "#        self.layer4.fc_layer.weight = torch.nn.Parameter(self.layer4.fc_layer.weight.data * W)\n",
    "#        self.layer5.fc_layer.weight = torch.nn.Parameter(self.layer5.fc_layer.weight.data * W)\n",
    "#        self.layer6.fc_layer.weight = torch.nn.Parameter(self.layer6.fc_layer.weight.data * W)\n",
    "#class FiveRecHiddenModel(nn.Module):\n",
    "#\n",
    "#    def __init__(self,in_channels,hidden_channels,out_channels,batch_size,alpha=.9,beta=.85,device='cpu',W=None):\n",
    "#        super(FiveRecHiddenModel, self).__init__()\n",
    "#\n",
    "#        self.in_channels = in_channels\n",
    "#        self.hidden_channels = hidden_channels\n",
    "#        self.out_channels = out_channels\n",
    "#        self.alpha = alpha\n",
    "#        self.beta = beta\n",
    "#        self.batch_size = batch_size\n",
    "#        self.device = device\n",
    "#        self.W = W\n",
    "#        self.layer1 = LIFDensePopulation(in_channels=self.in_channels,out_channels=self.hidden_channels,\n",
    "#                                         alpha=self.alpha,beta=self.beta,batch_size=self.batch_size,W=W).to(device)\n",
    "#        self.layer2 = LifRecPopulation(in_channels=self.hidden_channels,out_channels=self.hidden_channels,\n",
    "#                                         alpha=self.alpha,beta=self.beta,batch_size=self.batch_size).to(device)\n",
    "#        self.layer3 = LifRecPopulation(in_channels=self.hidden_channels,out_channels=self.hidden_channels,\n",
    "#                                         alpha=self.alpha,beta=self.beta,batch_size=self.batch_size).to(device)\n",
    "#        self.layer4 = LifRecPopulation(in_channels=self.hidden_channels,out_channels=self.hidden_channels,\n",
    "#                                         alpha=self.alpha,beta=self.beta,batch_size=self.batch_size).to(device)\n",
    "#        self.layer5 = LifRecPopulation(in_channels=self.hidden_channels,out_channels=self.hidden_channels,\n",
    "#                                        alpha=self.alpha,beta=self.beta,batch_size=self.batch_size).to(device)\n",
    "#        self.layer6 = LifRecPopulation(in_channels=self.hidden_channels,out_channels=self.hidden_channels,\n",
    "#                                         alpha=self.alpha,beta=self.beta,batch_size=self.batch_size).to(device)\n",
    "#        self.layer7 = LIFDensePopulation(in_channels=self.hidden_channels,out_channels=self.out_channels,\n",
    "#                                         alpha=self.alpha,beta=self.beta,batch_size=self.batch_size).to(device)\n",
    "#        #maybe try last layer non- spiking\n",
    "#\n",
    "#    def forward(self,Sin):\n",
    "#        hidden1 = self.layer1(Sin)\n",
    "#        hidden2 = self.layer2(hidden1.S)\n",
    "#        hidden3 = self.layer3(hidden2.S)\n",
    "#        hidden4 = self.layer4(hidden3.S)\n",
    "#        hidden5 = self.layer5(hidden4.S)\n",
    "#        hidden6 = self.layer6(hidden5.S)\n",
    "#        out = self.layer7(hidden6.S)\n",
    "#        return out\n",
    "#\n",
    "#    def init_states(self):\n",
    "#        self.layer1.init_state()\n",
    "#        self.layer2.init_state()\n",
    "#        self.layer3.init_state()\n",
    "#        self.layer4.init_state()\n",
    "#        self.layer5.init_state()\n",
    "#        self.layer6.init_state()\n",
    "#        self.layer7.init_state()\n",
    "#\n",
    "#    def init_mod_weights(self,W):\n",
    "#        #self.layer1.fc_layer.weight = torch.nn.Parameter(self.layer1.fc_layer.weight.data * torch.Tensor(W))\n",
    "#        self.layer2.fc_layer.weight = torch.nn.Parameter((self.layer2.fc_layer.weight.data * W).to(torch.float32))\n",
    "#        self.layer3.fc_layer.weight = torch.nn.Parameter((self.layer3.fc_layer.weight.data * W).to(torch.float32))\n",
    "#        self.layer4.fc_layer.weight = torch.nn.Parameter((self.layer4.fc_layer.weight.data * W).to(torch.float32))\n",
    "#        self.layer5.fc_layer.weight = torch.nn.Parameter((self.layer5.fc_layer.weight.data * W).to(torch.float32))\n",
    "#        #self.layer6.fc_layer.weight = torch.nn.Parameter(self.layer6.fc_layer.weight.data * torch.Tensor(W))\n",
    "#\n",
    "#class TwoRecHiddenModel(nn.Module):\n",
    "#\n",
    "#    def __init__(self,in_channels,hidden_channels,out_channels,batch_size,alpha=.9,beta=.85,device='cpu',W=None):\n",
    "#        super(TwoRecHiddenModel, self).__init__()\n",
    "#\n",
    "#        self.in_channels = in_channels\n",
    "#        self.hidden_channels = hidden_channels\n",
    "#        self.out_channels = out_channels\n",
    "#        self.alpha = alpha\n",
    "#        self.beta = beta\n",
    "#        self.batch_size = batch_size\n",
    "#        self.device = device\n",
    "#        self.W = W\n",
    "#        self.layer1 = LIFDensePopulation(in_channels=self.in_channels,out_channels=self.hidden_channels,\n",
    "#                                         alpha=self.alpha,beta=self.beta,batch_size=self.batch_size,W=W).to(device)\n",
    "#        self.layer2 = LifRecPopulation(in_channels=self.hidden_channels,out_channels=self.hidden_channels,\n",
    "#                                         alpha=self.alpha,beta=self.beta,batch_size=self.batch_size).to(device)\n",
    "#        self.layer3 = LifRecPopulation(in_channels=self.hidden_channels,out_channels=self.hidden_channels,\n",
    "#                                         alpha=self.alpha,beta=self.beta,batch_size=self.batch_size).to(device)\n",
    "#        self.layer4 = LIFDensePopulation(in_channels=self.hidden_channels,out_channels=self.out_channels,\n",
    "#                                         alpha=self.alpha,beta=self.beta,batch_size=self.batch_size).to(device)\n",
    "#        #maybe try last layer non- spiking\n",
    "#\n",
    "#    def forward(self,Sin):\n",
    "#        hidden1 = self.layer1(Sin)\n",
    "#        hidden2 = self.layer2(hidden1.S)\n",
    "#        hidden3 = self.layer3(hidden2.S)\n",
    "#        out = self.layer4(hidden3.S)\n",
    "#        return out\n",
    "#\n",
    "#    def init_states(self):\n",
    "#        self.layer1.init_state()\n",
    "#        self.layer2.init_state()\n",
    "#        self.layer3.init_state()\n",
    "#        self.layer4.init_state()\n",
    "#\n",
    "#    def init_mod_weights(self,W):\n",
    "#        #self.layer1.fc_layer.weight = torch.nn.Parameter(self.layer1.fc_layer.weight.data * torch.Tensor(W))\n",
    "#        self.layer2.fc_layer.weight = torch.nn.Parameter((self.layer2.fc_layer.weight.data * W).to(torch.float32))\n",
    "#        #self.layer6.fc_layer.weight = torch.nn.Parameter(self.layer6.fc_layer.weight.data * torch.Tensor(W))\n",
    "#\n",
    "#"
   ]
  },
  {
   "cell_type": "code",
   "execution_count": 13,
   "metadata": {},
   "outputs": [],
   "source": [
    "nb_inputs  = 700\n",
    "nb_hidden  = 200\n",
    "nb_outputs = 20\n",
    "\n",
    "time_step = 1e-3\n",
    "nb_steps = 100\n",
    "max_time = 1.4\n",
    "\n",
    "batch_size = 128\n"
   ]
  },
  {
   "cell_type": "code",
   "execution_count": 14,
   "metadata": {},
   "outputs": [
    {
     "name": "stdout",
     "output_type": "stream",
     "text": [
      "Available at: /Users/kerstjens/data/hdspikes/shd_train.h5\n",
      "Available at: /Users/kerstjens/data/hdspikes/shd_test.h5\n"
     ]
    }
   ],
   "source": [
    "# Here we load the Dataset\n",
    "cache_dir = os.path.expanduser(\"~/data\")\n",
    "cache_subdir = \"hdspikes\"\n",
    "heidel_utils.get_shd_dataset(cache_dir, cache_subdir)\n",
    "\n",
    "train_file = h5py.File(os.path.join(cache_dir, cache_subdir, 'shd_train.h5'), 'r')\n",
    "test_file = h5py.File(os.path.join(cache_dir, cache_subdir, 'shd_test.h5'), 'r')\n",
    "\n",
    "x_train = train_file['spikes']\n",
    "y_train = train_file['labels']\n",
    "x_test = test_file['spikes']\n",
    "y_test = test_file['labels']"
   ]
  },
  {
   "cell_type": "code",
   "execution_count": null,
   "metadata": {},
   "outputs": [],
   "source": []
  },
  {
   "cell_type": "code",
   "execution_count": 91,
   "metadata": {},
   "outputs": [],
   "source": []
  },
  {
   "cell_type": "code",
   "execution_count": 102,
   "metadata": {},
   "outputs": [
    {
     "name": "stdout",
     "output_type": "stream",
     "text": [
      "OG: 544000\n",
      "W: 543520.0\n",
      "Original #parameters: 544000\n",
      "Augmented #parameters: 543520.0\n"
     ]
    }
   ],
   "source": [
    "in_size = 700\n",
    "hid_size_W = 344\n",
    "hid_size_OG = 200\n",
    "out_size = 20\n",
    "hidden_layers = 5\n",
    "param_count_OG = in_size * hid_size_OG + (hidden_layers * 2 * hid_size_OG * hid_size_OG) + (out_size * hid_size_OG)\n",
    "param_count_W = in_size * hid_size_W + (hidden_layers * 2 * hid_size_W * hid_size_W)/4 + (out_size * hid_size_W)\n",
    "print(f'OG: {param_count_OG}')\n",
    "print(f'W: {param_count_W}')\n",
    "\n",
    "hid_size_W\n",
    "\n",
    "def find_hidden_size(layers,blocks,in_size=700,out_size=20,params_to_match=544000):\n",
    "    a = layers * 2 / blocks\n",
    "    b = in_size + out_size\n",
    "    c = -params_to_match\n",
    "    d = b ** 2 - (4 * a * c)\n",
    "    x1 = round((-b - np.sqrt(d))/ ( 2 * a))\n",
    "    x2 = round((-b + np.sqrt(d))/ ( 2 * a))\n",
    "    if x1 > 0:\n",
    "        param_count_OG = params_to_match\n",
    "        param_count_W = b * x1 + (a * x1 * x1) \n",
    "\n",
    "\n",
    "        print(f'Original #parameters: {param_count_OG}')\n",
    "        print(f'Augmented #parameters: {param_count_W}')\n",
    "        return x1\n",
    "    else:\n",
    "        param_count_OG = params_to_match\n",
    "        param_count_W = b * x2 + (a * x2 * x2) \n",
    "\n",
    "\n",
    "        print(f'Original #parameters: {param_count_OG}')\n",
    "        print(f'Augmented #parameters: {param_count_W}')\n",
    "        return x2\n",
    "    \n",
    "\n",
    "\n",
    "hidden_size = find_hidden_size(layers=5,blocks=4)\n"
   ]
  },
  {
   "cell_type": "code",
   "execution_count": 21,
   "metadata": {},
   "outputs": [
    {
     "data": {
      "text/plain": [
       "tensor([[1., 1., 1.,  ..., 0., 0., 0.],\n",
       "        [1., 1., 1.,  ..., 0., 0., 0.],\n",
       "        [1., 1., 1.,  ..., 0., 0., 0.],\n",
       "        ...,\n",
       "        [0., 0., 0.,  ..., 1., 1., 1.],\n",
       "        [0., 0., 0.,  ..., 1., 1., 1.],\n",
       "        [0., 0., 0.,  ..., 1., 1., 1.]], device='cuda:0', dtype=torch.float64)"
      ]
     },
     "execution_count": 21,
     "metadata": {},
     "output_type": "execute_result"
    }
   ],
   "source": [
    "W"
   ]
  },
  {
   "cell_type": "code",
   "execution_count": 15,
   "metadata": {},
   "outputs": [],
   "source": [
    "def sparse_data_generator_from_hdf5_spikes(X, y, batch_size, nb_steps, nb_units, max_time, shuffle=True):\n",
    "    \"\"\" This generator takes a spike dataset and generates spiking network input as sparse tensors.\n",
    "\n",
    "    Args:\n",
    "        X: The data ( sample x event x 2 ) the last dim holds (time,neuron) tuples\n",
    "        y: The labels\n",
    "    \"\"\"\n",
    "\n",
    "    labels_ = np.array(y,dtype=np.int)\n",
    "    number_of_batches = len(labels_)//batch_size\n",
    "    sample_index = np.arange(len(labels_))\n",
    "\n",
    "    # compute discrete firing times\n",
    "    firing_times = X['times']\n",
    "    units_fired = X['units']\n",
    "\n",
    "    time_bins = np.linspace(0, max_time, num=nb_steps)\n",
    "\n",
    "    if shuffle:\n",
    "        np.random.shuffle(sample_index)\n",
    "\n",
    "    total_batch_count = 0\n",
    "    counter = 0\n",
    "    while counter<number_of_batches:\n",
    "        batch_index = sample_index[batch_size*counter:batch_size*(counter+1)]\n",
    "\n",
    "        coo = [ [] for i in range(3) ]\n",
    "        for bc,idx in enumerate(batch_index):\n",
    "            times = np.digitize(firing_times[idx], time_bins)\n",
    "            units = units_fired[idx]\n",
    "            batch = [bc for _ in range(len(times))]\n",
    "\n",
    "            coo[0].extend(batch)\n",
    "            coo[1].extend(times)\n",
    "            coo[2].extend(units)\n",
    "\n",
    "        i = torch.LongTensor(coo).to(device)\n",
    "        v = torch.FloatTensor(np.ones(len(coo[0]))).to(device)\n",
    "\n",
    "        X_batch = torch.sparse.FloatTensor(i, v, torch.Size([batch_size,nb_steps,nb_units])).to(device)\n",
    "        y_batch = torch.tensor(labels_[batch_index],device=device)\n",
    "\n",
    "        yield X_batch.to(device=device), y_batch.to(device=device)\n",
    "\n",
    "        counter += 1"
   ]
  },
  {
   "cell_type": "code",
   "execution_count": 16,
   "metadata": {},
   "outputs": [],
   "source": [
    "from LIFlayer import OneHiddenModel"
   ]
  },
  {
   "cell_type": "code",
   "execution_count": 17,
   "metadata": {},
   "outputs": [
    {
     "data": {
      "text/plain": [
       "0.64"
      ]
     },
     "execution_count": 17,
     "metadata": {},
     "output_type": "execute_result"
    }
   ],
   "source": [
    "batch_size = 128\n",
    "torch.cuda.memory_allocated()/1000000"
   ]
  },
  {
   "cell_type": "code",
   "execution_count": 23,
   "metadata": {},
   "outputs": [],
   "source": [
    "model = OneRecHiddenModel(in_channels=nb_inputs,hidden_channels=200,out_channels=nb_outputs,batch_size=batch_size,W=W,device=device).to(device)"
   ]
  },
  {
   "cell_type": "code",
   "execution_count": 24,
   "metadata": {},
   "outputs": [
    {
     "name": "stderr",
     "output_type": "stream",
     "text": [
      "/tmp/ipykernel_1874666/915459707.py:9: DeprecationWarning: `np.int` is a deprecated alias for the builtin `int`. To silence this warning, use `int` by itself. Doing this will not modify any behavior and is safe. When replacing `np.int`, you may wish to use e.g. `np.int64` or `np.int32` to specify the precision. If you wish to review your current use, check the release note link for additional information.\n",
      "Deprecated in NumPy 1.20; for more details and guidance: https://numpy.org/devdocs/release/1.20.0-notes.html#deprecations\n",
      "  labels_ = np.array(y,dtype=np.int)\n"
     ]
    },
    {
     "name": "stdout",
     "output_type": "stream",
     "text": [
      "time for epoch 0: 30.21317434310913\n",
      "epoch 0: \n",
      " loss: 4.531523322302197\n"
     ]
    },
    {
     "ename": "KeyboardInterrupt",
     "evalue": "",
     "output_type": "error",
     "traceback": [
      "\u001b[0;31m---------------------------------------------------------------------------\u001b[0m",
      "\u001b[0;31mKeyboardInterrupt\u001b[0m                         Traceback (most recent call last)",
      "\u001b[1;32m/Users/kerstjens/msc_thesis/msc_thesis/heidel_copy.ipynb Cell 17'\u001b[0m in \u001b[0;36m<cell line: 18>\u001b[0;34m()\u001b[0m\n\u001b[1;32m     <a href='vscode-notebook-cell://ssh-remote%2Bgpu4/Users/kerstjens/msc_thesis/msc_thesis/heidel_copy.ipynb#ch0000017vscode-remote?line=50'>51</a>\u001b[0m loss \u001b[39m=\u001b[39m ce_loss(prediction,y)\n\u001b[1;32m     <a href='vscode-notebook-cell://ssh-remote%2Bgpu4/Users/kerstjens/msc_thesis/msc_thesis/heidel_copy.ipynb#ch0000017vscode-remote?line=53'>54</a>\u001b[0m \u001b[39m#tonic & torch neuromorphic\u001b[39;00m\n\u001b[0;32m---> <a href='vscode-notebook-cell://ssh-remote%2Bgpu4/Users/kerstjens/msc_thesis/msc_thesis/heidel_copy.ipynb#ch0000017vscode-remote?line=55'>56</a>\u001b[0m loss\u001b[39m.\u001b[39;49mbackward()\n\u001b[1;32m     <a href='vscode-notebook-cell://ssh-remote%2Bgpu4/Users/kerstjens/msc_thesis/msc_thesis/heidel_copy.ipynb#ch0000017vscode-remote?line=56'>57</a>\u001b[0m opt\u001b[39m.\u001b[39mstep()\n\u001b[1;32m     <a href='vscode-notebook-cell://ssh-remote%2Bgpu4/Users/kerstjens/msc_thesis/msc_thesis/heidel_copy.ipynb#ch0000017vscode-remote?line=57'>58</a>\u001b[0m opt\u001b[39m.\u001b[39mzero_grad()\n",
      "File \u001b[0;32m~/msc_thesis/.venv/lib/python3.8/site-packages/torch/_tensor.py:363\u001b[0m, in \u001b[0;36mTensor.backward\u001b[0;34m(self, gradient, retain_graph, create_graph, inputs)\u001b[0m\n\u001b[1;32m    <a href='file:///Users/kerstjens/msc_thesis/.venv/lib/python3.8/site-packages/torch/_tensor.py?line=353'>354</a>\u001b[0m \u001b[39mif\u001b[39;00m has_torch_function_unary(\u001b[39mself\u001b[39m):\n\u001b[1;32m    <a href='file:///Users/kerstjens/msc_thesis/.venv/lib/python3.8/site-packages/torch/_tensor.py?line=354'>355</a>\u001b[0m     \u001b[39mreturn\u001b[39;00m handle_torch_function(\n\u001b[1;32m    <a href='file:///Users/kerstjens/msc_thesis/.venv/lib/python3.8/site-packages/torch/_tensor.py?line=355'>356</a>\u001b[0m         Tensor\u001b[39m.\u001b[39mbackward,\n\u001b[1;32m    <a href='file:///Users/kerstjens/msc_thesis/.venv/lib/python3.8/site-packages/torch/_tensor.py?line=356'>357</a>\u001b[0m         (\u001b[39mself\u001b[39m,),\n\u001b[0;32m   (...)\u001b[0m\n\u001b[1;32m    <a href='file:///Users/kerstjens/msc_thesis/.venv/lib/python3.8/site-packages/torch/_tensor.py?line=360'>361</a>\u001b[0m         create_graph\u001b[39m=\u001b[39mcreate_graph,\n\u001b[1;32m    <a href='file:///Users/kerstjens/msc_thesis/.venv/lib/python3.8/site-packages/torch/_tensor.py?line=361'>362</a>\u001b[0m         inputs\u001b[39m=\u001b[39minputs)\n\u001b[0;32m--> <a href='file:///Users/kerstjens/msc_thesis/.venv/lib/python3.8/site-packages/torch/_tensor.py?line=362'>363</a>\u001b[0m torch\u001b[39m.\u001b[39;49mautograd\u001b[39m.\u001b[39;49mbackward(\u001b[39mself\u001b[39;49m, gradient, retain_graph, create_graph, inputs\u001b[39m=\u001b[39;49minputs)\n",
      "File \u001b[0;32m~/msc_thesis/.venv/lib/python3.8/site-packages/torch/autograd/__init__.py:173\u001b[0m, in \u001b[0;36mbackward\u001b[0;34m(tensors, grad_tensors, retain_graph, create_graph, grad_variables, inputs)\u001b[0m\n\u001b[1;32m    <a href='file:///Users/kerstjens/msc_thesis/.venv/lib/python3.8/site-packages/torch/autograd/__init__.py?line=167'>168</a>\u001b[0m     retain_graph \u001b[39m=\u001b[39m create_graph\n\u001b[1;32m    <a href='file:///Users/kerstjens/msc_thesis/.venv/lib/python3.8/site-packages/torch/autograd/__init__.py?line=169'>170</a>\u001b[0m \u001b[39m# The reason we repeat same the comment below is that\u001b[39;00m\n\u001b[1;32m    <a href='file:///Users/kerstjens/msc_thesis/.venv/lib/python3.8/site-packages/torch/autograd/__init__.py?line=170'>171</a>\u001b[0m \u001b[39m# some Python versions print out the first line of a multi-line function\u001b[39;00m\n\u001b[1;32m    <a href='file:///Users/kerstjens/msc_thesis/.venv/lib/python3.8/site-packages/torch/autograd/__init__.py?line=171'>172</a>\u001b[0m \u001b[39m# calls in the traceback and some print out the last line\u001b[39;00m\n\u001b[0;32m--> <a href='file:///Users/kerstjens/msc_thesis/.venv/lib/python3.8/site-packages/torch/autograd/__init__.py?line=172'>173</a>\u001b[0m Variable\u001b[39m.\u001b[39;49m_execution_engine\u001b[39m.\u001b[39;49mrun_backward(  \u001b[39m# Calls into the C++ engine to run the backward pass\u001b[39;49;00m\n\u001b[1;32m    <a href='file:///Users/kerstjens/msc_thesis/.venv/lib/python3.8/site-packages/torch/autograd/__init__.py?line=173'>174</a>\u001b[0m     tensors, grad_tensors_, retain_graph, create_graph, inputs,\n\u001b[1;32m    <a href='file:///Users/kerstjens/msc_thesis/.venv/lib/python3.8/site-packages/torch/autograd/__init__.py?line=174'>175</a>\u001b[0m     allow_unreachable\u001b[39m=\u001b[39;49m\u001b[39mTrue\u001b[39;49;00m, accumulate_grad\u001b[39m=\u001b[39;49m\u001b[39mTrue\u001b[39;49;00m)\n",
      "\u001b[0;31mKeyboardInterrupt\u001b[0m: "
     ]
    }
   ],
   "source": [
    "import time\n",
    "\n",
    "#model = OneRecHiddenModel(in_channels=nb_inputs,hidden_channels=400,out_channels=nb_outputs,batch_size=batch_size,W=W,device=device).to(device)\n",
    "\n",
    "ce_loss = torch.nn.CrossEntropyLoss().to(device)\n",
    "#copy_w = model.layer2.fc_layer.weight.data.clone()\n",
    "#plt.imshow(copy_w.cpu())\n",
    "model.init_mod_weights(W)\n",
    "#copy_w = model.layer2.fc_layer.weight.data.clone()\n",
    "#plt.imshow(copy_w.cpu())\n",
    "decay = .99\n",
    "params = model.parameters()\n",
    "opt = torch.optim.Adamax(params, lr=2e-4, betas=(0.9,0.999)) #lr is the learning rate\n",
    "#decay = .9\n",
    "\n",
    "epochs = 100\n",
    "loss_hist = []\n",
    "for epoch in range(epochs):\n",
    "    tic = time.time()\n",
    "    avg_loss = 0\n",
    "    model.train()\n",
    "    sum_acc=0\n",
    "    count = 0\n",
    "    local_loss = []\n",
    "    #batches\n",
    "    for x,y in sparse_data_generator_from_hdf5_spikes(x_train, y_train, batch_size, nb_steps, nb_units=nb_inputs, max_time=max_time, shuffle=True):\n",
    "        \n",
    "        model.init_states()\n",
    "\n",
    "        Sprobe = torch.zeros((batch_size,model.out_channels),device=device)\n",
    "        #out = torch.zeros((batch_size,model.out_channels),device=device)\n",
    "        #out_rec = [out]\n",
    "        #timesteps\n",
    "        for n in range(nb_steps):\n",
    "            #print(torch.cuda.memory_allocated()/1000000)\n",
    "            out_state = model(x.to_dense()[:,n])\n",
    "            #out_rec.append(out_state.U)\n",
    "            #add decay for leakiness\n",
    "            #collect spikes over time\n",
    "            Sprobe = decay * Sprobe + out_state.S\n",
    "        #out_rec = torch.stack(out_rec,dim=1)\n",
    "        #prediction = torch.max(out_rec,1).values\n",
    "\n",
    "        prediction = Sprobe\n",
    "        #if i==0:\n",
    "        #    print(prediction)\n",
    "\n",
    "        #accuracy = val_accuracy(prediction,y_train[train_batch_ids[i]])\n",
    "\n",
    "        #class labels only\n",
    "        loss = ce_loss(prediction,y)\n",
    "\n",
    "\n",
    "        #tonic & torch neuromorphic\n",
    "\n",
    "        loss.backward()\n",
    "        opt.step()\n",
    "        opt.zero_grad()\n",
    "        #model.init_mod_weights(W)\n",
    "        model.init_mod_weights(W2)\n",
    "        #sum_acc = sum_acc + accuracy\n",
    "        #sum_loss = sum_loss + loss\n",
    "        avg_loss = ((avg_loss * count) + loss)/(count+1)\n",
    "        count += 1\n",
    "        local_loss.append(loss.item())\n",
    "    mean_loss = np.mean(local_loss)\n",
    "    loss_hist.append(mean_loss)\n",
    "    #avg_train_acc = sum_acc/(len(train_batch_ids))\n",
    "    #avg_loss = sum_loss/(len(train_batch_ids))\n",
    "    #if i == 3:/'\n",
    "    #loss_hist = loss_hist + [float(avg_loss)]\n",
    "    #acc_hist = acc_hist + [float(avg_train_acc)]\n",
    "\n",
    "    toc = time.time()\n",
    "    print(f'time for epoch {epoch}: {toc-tic}')\n",
    "    if epoch%1==0:\n",
    "        print(f'epoch {epoch}: \\n loss: {mean_loss}')\n",
    "        #print(f'train_acc: {avg_train_acc}')\n",
    "    #val_acc,_,_ = validation_acc(X_test,y_test,model,test_batch_ids)\n",
    "    #val_acc_hist = val_acc_hist + [val_acc]\n",
    "    #print(f'val_acc: {val_acc}')\n",
    "\n"
   ]
  },
  {
   "cell_type": "code",
   "execution_count": 26,
   "metadata": {},
   "outputs": [
    {
     "data": {
      "text/plain": [
       "tensor([[-0.0136, -0.0054,  0.0133,  ...,  0.0002,  0.0002,  0.0002],\n",
       "        [-0.0296,  0.0068,  0.0055,  ..., -0.0002, -0.0002, -0.0002],\n",
       "        [ 0.0179, -0.0096,  0.0260,  ...,  0.0002,  0.0002,  0.0002],\n",
       "        ...,\n",
       "        [-0.0002, -0.0002, -0.0002,  ...,  0.0262, -0.0142,  0.0065],\n",
       "        [ 0.0002,  0.0002,  0.0002,  ...,  0.0018,  0.0045, -0.0029],\n",
       "        [ 0.0002,  0.0002,  0.0002,  ...,  0.0239, -0.0086,  0.0063]],\n",
       "       device='cuda:0')"
      ]
     },
     "execution_count": 26,
     "metadata": {},
     "output_type": "execute_result"
    }
   ],
   "source": [
    "wplot"
   ]
  },
  {
   "cell_type": "code",
   "execution_count": 25,
   "metadata": {},
   "outputs": [
    {
     "data": {
      "text/plain": [
       "<matplotlib.image.AxesImage at 0x7f5b1de31d60>"
      ]
     },
     "execution_count": 25,
     "metadata": {},
     "output_type": "execute_result"
    },
    {
     "data": {
      "image/png": "[encoded data removed]",
      "text/plain": [
       "<Figure size 432x288 with 1 Axes>"
      ]
     },
     "metadata": {
      "needs_background": "light"
     },
     "output_type": "display_data"
    }
   ],
   "source": [
    "wplot = model.layer2.fc_layer.weight.data.clone()\n",
    "plt.imshow(wplot.detach().cpu().numpy())"
   ]
  },
  {
   "cell_type": "code",
   "execution_count": 10,
   "metadata": {},
   "outputs": [],
   "source": [
    "def batch_accuracy(prediction,y):\n",
    "    return (np.argmax(prediction.detach().cpu().numpy(),axis=1) == y.cpu().numpy()).sum()/128*100"
   ]
  },
  {
   "cell_type": "code",
   "execution_count": 11,
   "metadata": {},
   "outputs": [
    {
     "ename": "NameError",
     "evalue": "name 'nb_inputs' is not defined",
     "output_type": "error",
     "traceback": [
      "\u001b[0;31m---------------------------------------------------------------------------\u001b[0m",
      "\u001b[0;31mNameError\u001b[0m                                 Traceback (most recent call last)",
      "\u001b[1;32m/Users/kerstjens/msc_thesis/msc_thesis/heidel_copy.ipynb Cell 20'\u001b[0m in \u001b[0;36m<cell line: 1>\u001b[0;34m()\u001b[0m\n\u001b[0;32m----> <a href='vscode-notebook-cell://ssh-remote%2Bgpu4/Users/kerstjens/msc_thesis/msc_thesis/heidel_copy.ipynb#ch0000020vscode-remote?line=0'>1</a>\u001b[0m model \u001b[39m=\u001b[39m OneRecHiddenModel(in_channels\u001b[39m=\u001b[39mnb_inputs,hidden_channels\u001b[39m=\u001b[39mnb_hidden,out_channels\u001b[39m=\u001b[39mnb_outputs,batch_size\u001b[39m=\u001b[39mbatch_size,W\u001b[39m=\u001b[39m\u001b[39mNone\u001b[39;00m)\u001b[39m.\u001b[39mto(device)\n",
      "\u001b[0;31mNameError\u001b[0m: name 'nb_inputs' is not defined"
     ]
    }
   ],
   "source": [
    "model = OneRecHiddenModel(in_channels=nb_inputs,hidden_channels=nb_hidden,out_channels=nb_outputs,batch_size=batch_size,W=None).to(device)"
   ]
  },
  {
   "cell_type": "code",
   "execution_count": 18,
   "metadata": {},
   "outputs": [
    {
     "data": {
      "text/plain": [
       "[<matplotlib.lines.Line2D at 0x7f344b64bd00>]"
      ]
     },
     "execution_count": 18,
     "metadata": {},
     "output_type": "execute_result"
    },
    {
     "data": {
      "image/png": "[encoded data removed]",
      "text/plain": [
       "<Figure size 432x288 with 1 Axes>"
      ]
     },
     "metadata": {
      "needs_background": "light"
     },
     "output_type": "display_data"
    }
   ],
   "source": [
    "plt.plot(loss_hist)"
   ]
  },
  {
   "cell_type": "code",
   "execution_count": 22,
   "metadata": {},
   "outputs": [
    {
     "name": "stderr",
     "output_type": "stream",
     "text": [
      "/tmp/ipykernel_1874353/915459707.py:9: DeprecationWarning: `np.int` is a deprecated alias for the builtin `int`. To silence this warning, use `int` by itself. Doing this will not modify any behavior and is safe. When replacing `np.int`, you may wish to use e.g. `np.int64` or `np.int32` to specify the precision. If you wish to review your current use, check the release note link for additional information.\n",
      "Deprecated in NumPy 1.20; for more details and guidance: https://numpy.org/devdocs/release/1.20.0-notes.html#deprecations\n",
      "  labels_ = np.array(y,dtype=np.int)\n"
     ]
    },
    {
     "ename": "RuntimeError",
     "evalue": "CUDA out of memory. Tried to allocate 26.00 MiB (GPU 0; 23.70 GiB total capacity; 6.11 GiB already allocated; 10.56 MiB free; 6.45 GiB reserved in total by PyTorch) If reserved memory is >> allocated memory try setting max_split_size_mb to avoid fragmentation.  See documentation for Memory Management and PYTORCH_CUDA_ALLOC_CONF",
     "output_type": "error",
     "traceback": [
      "\u001b[0;31m---------------------------------------------------------------------------\u001b[0m",
      "\u001b[0;31mRuntimeError\u001b[0m                              Traceback (most recent call last)",
      "\u001b[1;32m/Users/kerstjens/msc_thesis/msc_thesis/heidel_copy.ipynb Cell 26'\u001b[0m in \u001b[0;36m<cell line: 7>\u001b[0;34m()\u001b[0m\n\u001b[1;32m     <a href='vscode-notebook-cell://ssh-remote%2Bgpu4/Users/kerstjens/msc_thesis/msc_thesis/heidel_copy.ipynb#ch0000022vscode-remote?line=13'>14</a>\u001b[0m \u001b[39m#timesteps\u001b[39;00m\n\u001b[1;32m     <a href='vscode-notebook-cell://ssh-remote%2Bgpu4/Users/kerstjens/msc_thesis/msc_thesis/heidel_copy.ipynb#ch0000022vscode-remote?line=14'>15</a>\u001b[0m \u001b[39mfor\u001b[39;00m n \u001b[39min\u001b[39;00m \u001b[39mrange\u001b[39m(nb_steps):\n\u001b[0;32m---> <a href='vscode-notebook-cell://ssh-remote%2Bgpu4/Users/kerstjens/msc_thesis/msc_thesis/heidel_copy.ipynb#ch0000022vscode-remote?line=15'>16</a>\u001b[0m     out_state \u001b[39m=\u001b[39m model(x\u001b[39m.\u001b[39;49mto_dense()[:,n])\n\u001b[1;32m     <a href='vscode-notebook-cell://ssh-remote%2Bgpu4/Users/kerstjens/msc_thesis/msc_thesis/heidel_copy.ipynb#ch0000022vscode-remote?line=16'>17</a>\u001b[0m     out_rec\u001b[39m.\u001b[39mappend(out_state\u001b[39m.\u001b[39mU)\n\u001b[1;32m     <a href='vscode-notebook-cell://ssh-remote%2Bgpu4/Users/kerstjens/msc_thesis/msc_thesis/heidel_copy.ipynb#ch0000022vscode-remote?line=17'>18</a>\u001b[0m     \u001b[39m#add decay for leakiness\u001b[39;00m\n\u001b[1;32m     <a href='vscode-notebook-cell://ssh-remote%2Bgpu4/Users/kerstjens/msc_thesis/msc_thesis/heidel_copy.ipynb#ch0000022vscode-remote?line=18'>19</a>\u001b[0m     \u001b[39m#collect spikes over time\u001b[39;00m\n\u001b[1;32m     <a href='vscode-notebook-cell://ssh-remote%2Bgpu4/Users/kerstjens/msc_thesis/msc_thesis/heidel_copy.ipynb#ch0000022vscode-remote?line=19'>20</a>\u001b[0m     \u001b[39m#Sprobe = decay * Sprobe + out_state.S\u001b[39;00m\n",
      "\u001b[0;31mRuntimeError\u001b[0m: CUDA out of memory. Tried to allocate 26.00 MiB (GPU 0; 23.70 GiB total capacity; 6.11 GiB already allocated; 10.56 MiB free; 6.45 GiB reserved in total by PyTorch) If reserved memory is >> allocated memory try setting max_split_size_mb to avoid fragmentation.  See documentation for Memory Management and PYTORCH_CUDA_ALLOC_CONF"
     ]
    }
   ],
   "source": [
    "#torch.save(model.state_dict(), '5_rec_test.pth')\n",
    "#model = FiveRecHiddenModel(in_channels=nb_inputs,hidden_channels=200,out_channels=nb_outputs,batch_size=batch_size,W=None).to(device)\n",
    "#model.load_state_dict(torch.load('5_rec_test.pth'))\n",
    "\n",
    "counter = 0\n",
    "overall_accuracy = 0\n",
    "for x,y in sparse_data_generator_from_hdf5_spikes(x_test, y_test, batch_size, nb_steps, nb_units=nb_inputs, max_time=max_time, shuffle=True):\n",
    "        model.eval()\n",
    "        model.init_states()\n",
    "\n",
    "        #Sprobe = torch.zeros((batch_size,model.out_channels),device=device)\n",
    "        out = torch.zeros((batch_size,model.out_channels),device=device)\n",
    "        out_rec = [out]\n",
    "        #timesteps\n",
    "        for n in range(nb_steps):\n",
    "            out_state = model(x.to_dense()[:,n])\n",
    "            out_rec.append(out_state.U)\n",
    "            #add decay for leakiness\n",
    "            #collect spikes over time\n",
    "            #Sprobe = decay * Sprobe + out_state.S\n",
    "        out_rec = torch.stack(out_rec,dim=1)\n",
    "        prediction = torch.max(out_rec,1).values\n",
    "\n",
    "        batch_acc = batch_accuracy(prediction,y)\n",
    "        overall_accuracy = ((overall_accuracy * counter) + batch_acc) / (counter + 1)\n",
    "        counter +=1\n",
    "        print('overall accuracy: {:.4}%'.format(overall_accuracy))\n",
    "        \n",
    "\n",
    "        "
   ]
  }
 ],
 "metadata": {
  "interpreter": {
   "hash": "6200234780f1abd365c930dddb95b38298813a9988d77a8785e770f4fc612d5b"
  },
  "kernelspec": {
   "display_name": "Python 3.8.7 ('.venv': venv)",
   "language": "python",
   "name": "python3"
  },
  "language_info": {
   "codemirror_mode": {
    "name": "ipython",
    "version": 3
   },
   "file_extension": ".py",
   "mimetype": "text/x-python",
   "name": "python",
   "nbconvert_exporter": "python",
   "pygments_lexer": "ipython3",
   "version": "3.8.10"
  },
  "orig_nbformat": 4
 },
 "nbformat": 4,
 "nbformat_minor": 2
}
