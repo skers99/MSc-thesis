{
 "cells": [
  {
   "cell_type": "code",
   "execution_count": 1,
   "metadata": {},
   "outputs": [],
   "source": [
    "import numpy as np\n",
    "import matplotlib.pyplot as plt\n",
    "from modularities_notebooks.modularity import clustered_connections, print_weight_matrix, compute_density_matrix, plot_connection_matrices\n",
    "from sklearn.preprocessing import StandardScaler\n",
    "import pandas as pd\n",
    "import sys\n",
    "\n",
    "if '/Users/svenkerstjens/DataSpell/lib/python3.9/site-packages' not in sys.path:\n",
    "    sys.path.append('/Users/svenkerstjens/DataSpell/lib/python3.9/site-packages')\n",
    "import torch\n",
    "import snn_utils\n",
    "from randman.randman import *\n",
    "import matplotlib.pyplot as plt\n",
    "import seaborn as sns\n",
    "from randman_utils import *\n",
    "from torch.utils.data import DataLoader, Dataset\n",
    "from typing import Optional\n",
    "\n"
   ]
  },
  {
   "cell_type": "code",
   "execution_count": 2,
   "metadata": {},
   "outputs": [],
   "source": [
    "from LIFlayer import OneHiddenModel,OneRecHiddenModel,NHiddenModel"
   ]
  },
  {
   "cell_type": "code",
   "execution_count": 3,
   "metadata": {},
   "outputs": [
    {
     "name": "stdout",
     "output_type": "stream",
     "text": [
      "device: cuda\n"
     ]
    }
   ],
   "source": [
    "if torch.cuda.is_available():\n",
    "    device = torch.device(\"cuda\")\n",
    "    print(f'device: {device}')\n",
    "else:\n",
    "    device = torch.device(\"cpu\")\n",
    "    print(f'device: {device}')"
   ]
  },
  {
   "cell_type": "code",
   "execution_count": null,
   "metadata": {},
   "outputs": [],
   "source": [
    "X_"
   ]
  },
  {
   "cell_type": "code",
   "execution_count": 82,
   "metadata": {},
   "outputs": [],
   "source": [
    "spike_raster,labels = make_spike_raster_dataset()"
   ]
  },
  {
   "cell_type": "code",
   "execution_count": 88,
   "metadata": {},
   "outputs": [
    {
     "data": {
      "text/plain": [
       "<matplotlib.image.AxesImage at 0x7fd1f2b367c0>"
      ]
     },
     "execution_count": 88,
     "metadata": {},
     "output_type": "execute_result"
    },
    {
     "data": {
      "image/png": "[encoded data removed]",
      "text/plain": [
       "<Figure size 432x288 with 1 Axes>"
      ]
     },
     "metadata": {
      "needs_background": "light"
     },
     "output_type": "display_data"
    }
   ],
   "source": [
    "plt.imshow(spike_raster[0])"
   ]
  },
  {
   "cell_type": "code",
   "execution_count": 4,
   "metadata": {},
   "outputs": [],
   "source": [
    "class RandmanDataset(Dataset):\n",
    "    \"\"\"Characterizes a PyTorch dataset for use with the PyTorch dataloader.\"\"\"\n",
    "    def __init__(self, data, labels):\n",
    "        \"\"\"Simple initialization of the given dataset.\"\"\"\n",
    "        self.data = data\n",
    "        self.labels = labels\n",
    "\n",
    "    def __len__(self):\n",
    "        \"\"\"Denotes the total number of samples\"\"\"\n",
    "        return len(self.labels)\n",
    "\n",
    "    def __getitem__(self, index):\n",
    "        \"\"\"Retrives a single sample from the given dataset.\"\"\"\n",
    "        # Load data and get label\n",
    "        X = self.data[index]\n",
    "        y = self.labels[index]\n",
    "\n",
    "        return X, y\n",
    "\n",
    "def convert_spike_times_to_raster(spike_times: np.ndarray, timestep: float = 1.0, max_time: Optional[float] = None, num_neurons: Optional[int] = None, dtype=None):\n",
    "    \"\"\"\n",
    "    Convert spike times array to spike raster array. \n",
    "    For now, all neurons need to have same number of spike times.\n",
    "    \n",
    "    Args:\n",
    "        spike_times: MoreArrays, spiketimes as array of shape (batch_dim x spikes/neuron X 2)\n",
    "            with final dim: (times, neuron_id)\n",
    "    \"\"\"\n",
    "\n",
    "    if dtype is None:\n",
    "        dtype = np.int16\n",
    "    # spike_times = spike_times.astype(np.uint16)\n",
    "    if num_neurons is None:\n",
    "        num_neurons = int(np.nanmax(spike_times[:,:,1]))+1\n",
    "    if max_time is None:\n",
    "        max_time = np.nanmax(spike_times[:,:,0])\n",
    "    num_bins = int(max_time / timestep + 1)\n",
    "\n",
    "    spike_raster = np.zeros((spike_times.shape[0], num_bins, num_neurons), dtype=np.float32)\n",
    "    batch_id = np.arange(spike_times.shape[0]).repeat(spike_times.shape[1])\n",
    "    spike_times_flat = (spike_times[:, :, 0].flatten() / timestep).astype(dtype)\n",
    "    neuron_ids = spike_times[:, :, 1].flatten().astype(dtype)\n",
    "    np.add.at(spike_raster, (batch_id, spike_times_flat, neuron_ids), 1)\n",
    "    return spike_raster\n",
    "\n",
    "\n",
    "def make_spike_raster_dataset(nb_classes=10, nb_units=100, nb_steps=100, dim_manifold=2, nb_samples=1000, alpha=2.0, shuffle=True, seed=None):\n",
    "# def make_spike_raster_dataset(nb_classes, nb_units, nb_steps, dim_manifold=2, nb_spikes=1, nb_samples=1000, alpha=2.0, shuffle=True):\n",
    "# def make_spike_raster_dataset():\n",
    "    spike_times,labels = make_spiking_dataset(nb_classes=nb_classes, nb_units=nb_units, nb_steps=nb_steps, dim_manifold=dim_manifold, seed=seed,nb_samples=nb_samples,shuffle=shuffle,alpha=alpha)\n",
    "    spike_raster = convert_spike_times_to_raster(spike_times)\n",
    "    return spike_raster, labels\n",
    "\n",
    "def get_data_loaders(nb_classes, nb_units, nb_steps, nb_samples, batchsize):\n",
    "    data, labels = make_spike_raster_dataset(nb_classes=nb_classes, nb_units=nb_units, nb_steps=nb_steps, nb_samples=nb_samples)\n",
    "\n",
    "    NUM_SAMPLES_TOTAL = (nb_classes*nb_samples)\n",
    "    NUM_SAMPLES_TRAIN = int(NUM_SAMPLES_TOTAL*0.8)\n",
    "\n",
    "    data_train, labels_train = data[:NUM_SAMPLES_TRAIN], labels[:NUM_SAMPLES_TRAIN]\n",
    "    data_test,  labels_test  = data[NUM_SAMPLES_TRAIN:], labels[NUM_SAMPLES_TRAIN:]\n",
    "\n",
    "    dataset_train = RandmanDataset(data_train, labels_train)\n",
    "    dataset_test = RandmanDataset(data_test, labels_test)\n",
    "\n",
    "    dataloader_train = DataLoader(dataset_train, batch_size=batchsize, shuffle=True, drop_last=True)\n",
    "    dataloader_test = DataLoader(dataset_test, batch_size=batchsize, shuffle=True, drop_last=True)\n",
    "    return dataloader_train, dataloader_test"
   ]
  },
  {
   "cell_type": "code",
   "execution_count": 11,
   "metadata": {},
   "outputs": [],
   "source": [
    "data,labels = make_spike_raster_dataset()"
   ]
  },
  {
   "cell_type": "code",
   "execution_count": 15,
   "metadata": {},
   "outputs": [
    {
     "data": {
      "text/plain": [
       "(10000, 100, 100)"
      ]
     },
     "execution_count": 15,
     "metadata": {},
     "output_type": "execute_result"
    }
   ],
   "source": [
    "data.shape"
   ]
  },
  {
   "cell_type": "code",
   "execution_count": 5,
   "metadata": {},
   "outputs": [],
   "source": [
    "dataloader_train, dataloader_test = get_data_loaders(4,200,100,1000,50)"
   ]
  },
  {
   "cell_type": "code",
   "execution_count": 21,
   "metadata": {},
   "outputs": [
    {
     "name": "stdout",
     "output_type": "stream",
     "text": [
      "\u001b[0;31mType:\u001b[0m        DataLoader\n",
      "\u001b[0;31mString form:\u001b[0m <torch.utils.data.dataloader.DataLoader object at 0x7fddd0776d00>\n",
      "\u001b[0;31mLength:\u001b[0m      64\n",
      "\u001b[0;31mFile:\u001b[0m        ~/msc_thesis/.venv/lib/python3.8/site-packages/torch/utils/data/dataloader.py\n",
      "\u001b[0;31mDocstring:\u001b[0m  \n",
      "Data loader. Combines a dataset and a sampler, and provides an iterable over\n",
      "the given dataset.\n",
      "\n",
      "The :class:`~torch.utils.data.DataLoader` supports both map-style and\n",
      "iterable-style datasets with single- or multi-process loading, customizing\n",
      "loading order and optional automatic batching (collation) and memory pinning.\n",
      "\n",
      "See :py:mod:`torch.utils.data` documentation page for more details.\n",
      "\n",
      "Args:\n",
      "    dataset (Dataset): dataset from which to load the data.\n",
      "    batch_size (int, optional): how many samples per batch to load\n",
      "        (default: ``1``).\n",
      "    shuffle (bool, optional): set to ``True`` to have the data reshuffled\n",
      "        at every epoch (default: ``False``).\n",
      "    sampler (Sampler or Iterable, optional): defines the strategy to draw\n",
      "        samples from the dataset. Can be any ``Iterable`` with ``__len__``\n",
      "        implemented. If specified, :attr:`shuffle` must not be specified.\n",
      "    batch_sampler (Sampler or Iterable, optional): like :attr:`sampler`, but\n",
      "        returns a batch of indices at a time. Mutually exclusive with\n",
      "        :attr:`batch_size`, :attr:`shuffle`, :attr:`sampler`,\n",
      "        and :attr:`drop_last`.\n",
      "    num_workers (int, optional): how many subprocesses to use for data\n",
      "        loading. ``0`` means that the data will be loaded in the main process.\n",
      "        (default: ``0``)\n",
      "    collate_fn (callable, optional): merges a list of samples to form a\n",
      "        mini-batch of Tensor(s).  Used when using batched loading from a\n",
      "        map-style dataset.\n",
      "    pin_memory (bool, optional): If ``True``, the data loader will copy Tensors\n",
      "        into CUDA pinned memory before returning them.  If your data elements\n",
      "        are a custom type, or your :attr:`collate_fn` returns a batch that is a custom type,\n",
      "        see the example below.\n",
      "    drop_last (bool, optional): set to ``True`` to drop the last incomplete batch,\n",
      "        if the dataset size is not divisible by the batch size. If ``False`` and\n",
      "        the size of dataset is not divisible by the batch size, then the last batch\n",
      "        will be smaller. (default: ``False``)\n",
      "    timeout (numeric, optional): if positive, the timeout value for collecting a batch\n",
      "        from workers. Should always be non-negative. (default: ``0``)\n",
      "    worker_init_fn (callable, optional): If not ``None``, this will be called on each\n",
      "        worker subprocess with the worker id (an int in ``[0, num_workers - 1]``) as\n",
      "        input, after seeding and before data loading. (default: ``None``)\n",
      "    generator (torch.Generator, optional): If not ``None``, this RNG will be used\n",
      "        by RandomSampler to generate random indexes and multiprocessing to generate\n",
      "        `base_seed` for workers. (default: ``None``)\n",
      "    prefetch_factor (int, optional, keyword-only arg): Number of samples loaded\n",
      "        in advance by each worker. ``2`` means there will be a total of\n",
      "        2 * num_workers samples prefetched across all workers. (default: ``2``)\n",
      "    persistent_workers (bool, optional): If ``True``, the data loader will not shutdown\n",
      "        the worker processes after a dataset has been consumed once. This allows to\n",
      "        maintain the workers `Dataset` instances alive. (default: ``False``)\n",
      "\n",
      "\n",
      ".. warning:: If the ``spawn`` start method is used, :attr:`worker_init_fn`\n",
      "             cannot be an unpicklable object, e.g., a lambda function. See\n",
      "             :ref:`multiprocessing-best-practices` on more details related\n",
      "             to multiprocessing in PyTorch.\n",
      "\n",
      ".. warning:: ``len(dataloader)`` heuristic is based on the length of the sampler used.\n",
      "             When :attr:`dataset` is an :class:`~torch.utils.data.IterableDataset`,\n",
      "             it instead returns an estimate based on ``len(dataset) / batch_size``, with proper\n",
      "             rounding depending on :attr:`drop_last`, regardless of multi-process loading\n",
      "             configurations. This represents the best guess PyTorch can make because PyTorch\n",
      "             trusts user :attr:`dataset` code in correctly handling multi-process\n",
      "             loading to avoid duplicate data.\n",
      "\n",
      "             However, if sharding results in multiple workers having incomplete last batches,\n",
      "             this estimate can still be inaccurate, because (1) an otherwise complete batch can\n",
      "             be broken into multiple ones and (2) more than one batch worth of samples can be\n",
      "             dropped when :attr:`drop_last` is set. Unfortunately, PyTorch can not detect such\n",
      "             cases in general.\n",
      "\n",
      "             See `Dataset Types`_ for more details on these two types of datasets and how\n",
      "             :class:`~torch.utils.data.IterableDataset` interacts with\n",
      "             `Multi-process data loading`_.\n",
      "\n",
      ".. warning:: See :ref:`reproducibility`, and :ref:`dataloader-workers-random-seed`, and\n",
      "             :ref:`data-loading-randomness` notes for random seed related questions.\n"
     ]
    }
   ],
   "source": [
    "dataloader_train?"
   ]
  },
  {
   "cell_type": "code",
   "execution_count": 48,
   "metadata": {},
   "outputs": [],
   "source": [
    "def train_test(data,test_frac=.2):\n",
    "    train = data[:int(len(data)*(1-test_frac))]\n",
    "    test = data[int(len(data)*(1-test_frac)):]\n",
    "    return train,test\n",
    "\n",
    "def get_X_y(data,labels,T):\n",
    "    X_train, X_test = train_test(data)\n",
    "    y_train, y_test = train_test(labels)\n",
    "    X_train = prep_data(X_train,T=T)\n",
    "    X_test = prep_data(X_test, T=T)\n",
    "    y_train = prep_labels(y_train)\n",
    "    y_test = prep_labels(y_test)\n",
    "    return X_train, X_test, y_train,y_test\n",
    "\n",
    "def create_data(N,T,batch_size,nb_classes,nb_samples,alpha,device='cpu'):\n",
    "    data,labels = make_spiking_dataset(nb_classes=nb_classes, nb_units=N, nb_steps=T, dim_manifold=1, seed=42,nb_samples=nb_samples,shuffle=True,alpha=alpha)\n",
    "    show_samples(data,labels)\n",
    "    data = torch.IntTensor(data)\n",
    "    X_train, X_test, y_train, y_test = get_X_y(data,labels,T)\n",
    "    train_batch_ids = get_batches(X_train,batch_size)\n",
    "    test_batch_ids = get_batches(X_test,batch_size)\n",
    "    y_train = y_train.long()\n",
    "    y_test = y_test.long()\n",
    "    return torch.tensor(X_train,device=device),torch.tensor(X_test,device=device),torch.tensor(y_train,device=device),torch.tensor(y_test,device=device),torch.tensor(train_batch_ids,device=device),torch.tensor(test_batch_ids,device=device)"
   ]
  },
  {
   "cell_type": "code",
   "execution_count": 25,
   "metadata": {},
   "outputs": [],
   "source": [
    "def get_Ws(N,nb_classes,epsilon=.5,base_w = 1,w = 1,plot=True,device=device):\n",
    "    n_assemblies = nb_classes\n",
    "    ss = StandardScaler()\n",
    "    mask, cluster_ids, _ = clustered_connections(n_neurons=N, n_clusters=n_assemblies, density=1./n_assemblies, modularity=1.)\n",
    "    mask = (mask* (base_w*w)) + base_w\n",
    "\n",
    "    W, cluster_ids, t = clustered_connections(n_neurons=N, n_clusters=n_assemblies, density=epsilon, modularity=0.)\n",
    "    if w > 0.:\n",
    "        W *= base_w\n",
    "        W *= mask\n",
    "\n",
    "    if epsilon ==1:\n",
    "        W = W-1\n",
    "    W2 = (W != 0).astype(int)\n",
    "    if plot:\n",
    "        plt.title('W')\n",
    "        plt.imshow(W)\n",
    "        plt.colorbar()\n",
    "        plt.show()\n",
    "        plt.title('W2')\n",
    "        plt.imshow(W2)\n",
    "        plt.colorbar()\n",
    "        plt.show()\n",
    "    return torch.tensor(W,device=device,dtype=torch.float32), torch.tensor(W2,device=device,dtype=torch.float32)"
   ]
  },
  {
   "cell_type": "code",
   "execution_count": 27,
   "metadata": {},
   "outputs": [
    {
     "data": {
      "image/png": "[encoded data removed]",
      "text/plain": [
       "<Figure size 432x288 with 2 Axes>"
      ]
     },
     "metadata": {
      "needs_background": "light"
     },
     "output_type": "display_data"
    },
    {
     "data": {
      "image/png": "[encoded data removed]",
      "text/plain": [
       "<Figure size 432x288 with 2 Axes>"
      ]
     },
     "metadata": {
      "needs_background": "light"
     },
     "output_type": "display_data"
    }
   ],
   "source": [
    "W,W2 = get_Ws(200,4,1)"
   ]
  },
  {
   "cell_type": "code",
   "execution_count": 9,
   "metadata": {},
   "outputs": [],
   "source": [
    "def validation_acc(X_test,y_test,model,test_batch_ids):\n",
    "    sum_acc = 0\n",
    "    decay=.99\n",
    "    count = 0\n",
    "    for i in range(len(test_batch_ids)):\n",
    "        model.eval()\n",
    "        model.init_states()\n",
    "        Sprobe = torch.zeros((batch_size,model.out_channels),device=device)\n",
    "        #out = torch.zeros((batch_size,model.out_channels),device=device)\n",
    "        #out_rec = [out]\n",
    "        count +=1\n",
    "        for n in range(T):\n",
    "\n",
    "            out_state = model(X_test[test_batch_ids[i],n])\n",
    "            #out_rec.append(out_state.U)\n",
    "            Sprobe = decay * Sprobe + out_state.S\n",
    "\n",
    "        #out_rec = torch.stack(out_rec,dim=1)\n",
    "        #prediction = torch.max(out_rec,1).values\n",
    "        prediction = Sprobe\n",
    "        accuracy = acc_from_pred(prediction,y_test[test_batch_ids[i]])\n",
    "        sum_acc = sum_acc + accuracy\n",
    "    avg_acc = sum_acc/count\n",
    "    return avg_acc,prediction,y_test[test_batch_ids[i]]\n",
    "\n",
    "def acc_from_pred(prediction,y):\n",
    "\n",
    "    return (y == prediction.argmax(axis=1)).sum()/len(prediction)"
   ]
  },
  {
   "cell_type": "code",
   "execution_count": 37,
   "metadata": {},
   "outputs": [],
   "source": [
    "#def train(N,T,nb_classes,model,X_train,y_train,train_batch_ids,W,W2,lr,decay,epochs=100,use_W=False,use_W2=False,print_each=5,device='cpu'):\n",
    "def train(T,dataloader_train,nb_classes,model,W,W2,lr,decay=.99,epochs=100,use_W=False,use_W2=False,print_each=5,device=device):\n",
    "    #in_channels=N\n",
    "    #hidden_channels = N\n",
    "    #out_channels = nb_classes\n",
    "    #model = FiveHiddenModel(in_channels,hidden_channels,out_channels,batch_size=batch_size,W=W)\n",
    "\n",
    "    #mse_loss = torch.nn.MSELoss()\n",
    "    ce_loss = torch.nn.CrossEntropyLoss()\n",
    "\n",
    "    #apply W\n",
    "    if use_W:\n",
    "        model.init_mod_weights(W)\n",
    "\n",
    "    #layer1.fc_layer.weight = torch.nn.Parameter(torch.Tensor(W))\n",
    "    params = model.parameters()\n",
    "    opt = torch.optim.Adam(params, lr=lr, betas=[0., .95]) #lr is the learning rate\n",
    "    loss_hist = []\n",
    "    acc_hist = []\n",
    "    #epochs\n",
    "    for e in range(epochs):\n",
    "        batch_loss = 0\n",
    "        batch_acc=0\n",
    "        model.train()\n",
    "\n",
    "        #batches\n",
    "\n",
    "        #if e%10 == 0:\n",
    "        #    y = model.layer1.fc_layer.weight.clone().detach()\n",
    "        #    plt.imshow(y)\n",
    "        #    plt.show()\n",
    "        #plt.imshow(W)\n",
    "        #plt.show()\n",
    "        count = 0\n",
    "        for x,label in dataloader_train:\n",
    "            model.init_states()\n",
    "            Sprobe = torch.zeros((dataloader_train.batch_size,model.out_channels),device=device)\n",
    "            x = x.to(device)\n",
    "            label=label.to(device)\n",
    "            for n in range(T):\n",
    "                out_state = model(x[:,n])\n",
    "\n",
    "                Sprobe = decay * Sprobe + out_state.S\n",
    "            prediction = Sprobe\n",
    "            accuracy = acc_from_pred(prediction,label)\n",
    "            loss = ce_loss(prediction,label)\n",
    "            loss.backward()\n",
    "            opt.step()\n",
    "            opt.zero_grad()\n",
    "\n",
    "#        for i in range(len(train_batch_ids)):\n",
    "#        \n",
    "#\n",
    "#            model.init_states()\n",
    "#            Sprobe = torch.zeros((batch_size,model.out_channels),device=device)\n",
    "#            #out = torch.zeros((batch_size,model.out_channels),device=device)\n",
    "#            #out_rec = [out]\n",
    "#        #timesteps\n",
    "#            for n in range(T):\n",
    "#                out_state = model(X_train[train_batch_ids[i],n])\n",
    "#\n",
    "#            #add decay for leakiness\n",
    "#            #collect spikes over time\n",
    "#                Sprobe = decay * Sprobe + out_state.S\n",
    "#                #out_rec.append(out_state.U)\n",
    "#\n",
    "#            #out_rec = torch.stack(out_rec,dim=1)\n",
    "#            #prediction = torch.max(out_rec,1).values\n",
    "#            prediction = Sprobe\n",
    "#            accuracy = acc_from_pred(prediction,y_train[train_batch_ids[i]])\n",
    "#            loss = ce_loss(prediction,y_train[train_batch_ids[i]])\n",
    "#\n",
    "#            loss.backward()\n",
    "#            opt.step()\n",
    "#            opt.zero_grad()\n",
    "            if use_W2:\n",
    "                model.init_mod_weights(W2)\n",
    "            count+=1\n",
    "            batch_acc = batch_acc + accuracy\n",
    "            batch_loss = batch_loss + loss\n",
    "        #epoch_acc = batch_acc/(len(train_batch_ids))\n",
    "        epoch_acc = batch_acc/count\n",
    "        epoch_loss = batch_loss/count\n",
    "        #epoch_loss = batch_loss/(len(train_batch_ids))\n",
    "        loss_hist = loss_hist + [float(epoch_loss)]\n",
    "        acc_hist = acc_hist + [float(epoch_acc)]\n",
    "\n",
    "\n",
    "        if e%print_each==0:\n",
    "            print(f'epoch {e}: \\n loss: {epoch_loss}')\n",
    "            print(f'train_acc: {epoch_acc}')\n",
    "    return loss_hist,acc_hist"
   ]
  },
  {
   "cell_type": "code",
   "execution_count": 8,
   "metadata": {},
   "outputs": [
    {
     "name": "stdout",
     "output_type": "stream",
     "text": [
      "device: cuda\n"
     ]
    }
   ],
   "source": [
    "if torch.cuda.is_available():\n",
    "    device = torch.device(\"cuda\")\n",
    "    print(f'device: {device}')\n",
    "else:\n",
    "    device = torch.device(\"cpu\")\n",
    "    print(f'device: {device}')"
   ]
  },
  {
   "cell_type": "code",
   "execution_count": 37,
   "metadata": {},
   "outputs": [
    {
     "ename": "NameError",
     "evalue": "name 'out_state' is not defined",
     "output_type": "error",
     "traceback": [
      "\u001b[0;31m---------------------------------------------------------------------------\u001b[0m",
      "\u001b[0;31mNameError\u001b[0m                                 Traceback (most recent call last)",
      "\u001b[1;32m/Users/kerstjens/msc_thesis/msc_thesis/SNN.ipynb Cell 17'\u001b[0m in \u001b[0;36m<cell line: 1>\u001b[0;34m()\u001b[0m\n\u001b[0;32m----> <a href='vscode-notebook-cell://ssh-remote%2Bgpu4/Users/kerstjens/msc_thesis/msc_thesis/SNN.ipynb#ch0000028vscode-remote?line=0'>1</a>\u001b[0m out_state\n",
      "\u001b[0;31mNameError\u001b[0m: name 'out_state' is not defined"
     ]
    }
   ],
   "source": []
  },
  {
   "cell_type": "code",
   "execution_count": 36,
   "metadata": {},
   "outputs": [
    {
     "data": {
      "text/plain": [
       "50"
      ]
     },
     "execution_count": 36,
     "metadata": {},
     "output_type": "execute_result"
    }
   ],
   "source": [
    "dataloader_train.batch_size"
   ]
  },
  {
   "cell_type": "code",
   "execution_count": 49,
   "metadata": {},
   "outputs": [
    {
     "name": "stdout",
     "output_type": "stream",
     "text": [
      "created 16 batches\n",
      "created 4 batches\n"
     ]
    },
    {
     "name": "stderr",
     "output_type": "stream",
     "text": [
      "/tmp/ipykernel_2161447/4236364291.py:24: UserWarning: To copy construct from a tensor, it is recommended to use sourceTensor.clone().detach() or sourceTensor.clone().detach().requires_grad_(True), rather than torch.tensor(sourceTensor).\n",
      "  return torch.tensor(X_train,device=device),torch.tensor(X_test,device=device),torch.tensor(y_train,device=device),torch.tensor(y_test,device=device),torch.tensor(train_batch_ids,device=device),torch.tensor(test_batch_ids,device=device)\n"
     ]
    },
    {
     "ename": "TypeError",
     "evalue": "__init__() got an unexpected keyword argument 'batch_size'",
     "output_type": "error",
     "traceback": [
      "\u001b[0;31m---------------------------------------------------------------------------\u001b[0m",
      "\u001b[0;31mTypeError\u001b[0m                                 Traceback (most recent call last)",
      "\u001b[1;32m/Users/kerstjens/msc_thesis/msc_thesis/SNN.ipynb Cell 19'\u001b[0m in \u001b[0;36m<cell line: 8>\u001b[0;34m()\u001b[0m\n\u001b[1;32m      <a href='vscode-notebook-cell://ssh-remote%2Bgpu4/Users/kerstjens/msc_thesis/msc_thesis/SNN.ipynb#ch0000014vscode-remote?line=4'>5</a>\u001b[0m \u001b[39m#W,W2 = get_Ws(N=N,nb_classes=nb_classes,epsilon=1,device=device)\u001b[39;00m\n\u001b[1;32m      <a href='vscode-notebook-cell://ssh-remote%2Bgpu4/Users/kerstjens/msc_thesis/msc_thesis/SNN.ipynb#ch0000014vscode-remote?line=6'>7</a>\u001b[0m X_train,X_test,y_train, y_test, train_batch_ids,test_batch_ids \u001b[39m=\u001b[39mcreate_data(N\u001b[39m=\u001b[39mN,T\u001b[39m=\u001b[39mT,batch_size\u001b[39m=\u001b[39mbatch_size,nb_classes\u001b[39m=\u001b[39mnb_classes,nb_samples\u001b[39m=\u001b[39m\u001b[39m1000\u001b[39m,alpha\u001b[39m=\u001b[39m\u001b[39m1.5\u001b[39m,device\u001b[39m=\u001b[39mdevice)\n\u001b[0;32m----> <a href='vscode-notebook-cell://ssh-remote%2Bgpu4/Users/kerstjens/msc_thesis/msc_thesis/SNN.ipynb#ch0000014vscode-remote?line=7'>8</a>\u001b[0m model \u001b[39m=\u001b[39m OneRecHiddenModel(in_channels\u001b[39m=\u001b[39;49mN,hidden_channels\u001b[39m=\u001b[39;49mN,out_channels\u001b[39m=\u001b[39;49mnb_classes,batch_size\u001b[39m=\u001b[39;49mbatch_size,device\u001b[39m=\u001b[39;49mdevice)\n",
      "File \u001b[0;32m~/msc_thesis/msc_thesis/LIFlayer.py:180\u001b[0m, in \u001b[0;36mOneRecHiddenModel.__init__\u001b[0;34m(self, in_channels, hidden_channels, out_channels, batch_size, alpha, beta, device, W)\u001b[0m\n\u001b[1;32m    <a href='file:///Users/kerstjens/msc_thesis/msc_thesis/LIFlayer.py?line=177'>178</a>\u001b[0m \u001b[39mself\u001b[39m\u001b[39m.\u001b[39mdevice \u001b[39m=\u001b[39m device\n\u001b[1;32m    <a href='file:///Users/kerstjens/msc_thesis/msc_thesis/LIFlayer.py?line=178'>179</a>\u001b[0m \u001b[39mself\u001b[39m\u001b[39m.\u001b[39mW \u001b[39m=\u001b[39m W\n\u001b[0;32m--> <a href='file:///Users/kerstjens/msc_thesis/msc_thesis/LIFlayer.py?line=179'>180</a>\u001b[0m \u001b[39mself\u001b[39m\u001b[39m.\u001b[39mlayer1 \u001b[39m=\u001b[39m LIFDensePopulation(in_channels\u001b[39m=\u001b[39;49m\u001b[39mself\u001b[39;49m\u001b[39m.\u001b[39;49min_channels,out_channels\u001b[39m=\u001b[39;49m\u001b[39mself\u001b[39;49m\u001b[39m.\u001b[39;49mhidden_channels,\n\u001b[1;32m    <a href='file:///Users/kerstjens/msc_thesis/msc_thesis/LIFlayer.py?line=180'>181</a>\u001b[0m                                  alpha\u001b[39m=\u001b[39;49m\u001b[39mself\u001b[39;49m\u001b[39m.\u001b[39;49malpha,beta\u001b[39m=\u001b[39;49m\u001b[39mself\u001b[39;49m\u001b[39m.\u001b[39;49mbeta,batch_size\u001b[39m=\u001b[39;49m\u001b[39mself\u001b[39;49m\u001b[39m.\u001b[39;49mbatch_size,W\u001b[39m=\u001b[39;49mW,device\u001b[39m=\u001b[39;49mdevice)\u001b[39m.\u001b[39mto(device)\n\u001b[1;32m    <a href='file:///Users/kerstjens/msc_thesis/msc_thesis/LIFlayer.py?line=181'>182</a>\u001b[0m \u001b[39mself\u001b[39m\u001b[39m.\u001b[39mlayer2 \u001b[39m=\u001b[39m LifRecPopulation(in_channels\u001b[39m=\u001b[39m\u001b[39mself\u001b[39m\u001b[39m.\u001b[39mhidden_channels,out_channels\u001b[39m=\u001b[39m\u001b[39mself\u001b[39m\u001b[39m.\u001b[39mhidden_channels,\n\u001b[1;32m    <a href='file:///Users/kerstjens/msc_thesis/msc_thesis/LIFlayer.py?line=182'>183</a>\u001b[0m                                  alpha\u001b[39m=\u001b[39m\u001b[39mself\u001b[39m\u001b[39m.\u001b[39malpha,beta\u001b[39m=\u001b[39m\u001b[39mself\u001b[39m\u001b[39m.\u001b[39mbeta,batch_size\u001b[39m=\u001b[39m\u001b[39mself\u001b[39m\u001b[39m.\u001b[39mbatch_size,W\u001b[39m=\u001b[39mW,device\u001b[39m=\u001b[39mdevice)\u001b[39m.\u001b[39mto(device)\n\u001b[1;32m    <a href='file:///Users/kerstjens/msc_thesis/msc_thesis/LIFlayer.py?line=183'>184</a>\u001b[0m \u001b[39mself\u001b[39m\u001b[39m.\u001b[39mlayer3 \u001b[39m=\u001b[39m LIFDensePopulation(in_channels\u001b[39m=\u001b[39m\u001b[39mself\u001b[39m\u001b[39m.\u001b[39mhidden_channels,out_channels\u001b[39m=\u001b[39m\u001b[39mself\u001b[39m\u001b[39m.\u001b[39mout_channels,\n\u001b[1;32m    <a href='file:///Users/kerstjens/msc_thesis/msc_thesis/LIFlayer.py?line=184'>185</a>\u001b[0m                                  alpha\u001b[39m=\u001b[39m\u001b[39mself\u001b[39m\u001b[39m.\u001b[39malpha,beta\u001b[39m=\u001b[39m\u001b[39mself\u001b[39m\u001b[39m.\u001b[39mbeta,batch_size\u001b[39m=\u001b[39m\u001b[39mself\u001b[39m\u001b[39m.\u001b[39mbatch_size,device\u001b[39m=\u001b[39mdevice)\u001b[39m.\u001b[39mto(device)\n",
      "\u001b[0;31mTypeError\u001b[0m: __init__() got an unexpected keyword argument 'batch_size'"
     ]
    },
    {
     "data": {
      "image/png": "[encoded data removed]",
      "text/plain": [
       "<Figure size 700x180 with 5 Axes>"
      ]
     },
     "metadata": {
      "needs_background": "light"
     },
     "output_type": "display_data"
    }
   ],
   "source": [
    "N=200\n",
    "T=100\n",
    "batch_size=100\n",
    "nb_classes=2\n",
    "#W,W2 = get_Ws(N=N,nb_classes=nb_classes,epsilon=1,device=device)\n",
    "\n",
    "X_train,X_test,y_train, y_test, train_batch_ids,test_batch_ids =create_data(N=N,T=T,batch_size=batch_size,nb_classes=nb_classes,nb_samples=1000,alpha=1.5,device=device)\n",
    "model = OneRecHiddenModel(in_channels=N,hidden_channels=N,out_channels=nb_classes,batch_size=batch_size,device=device)"
   ]
  },
  {
   "cell_type": "code",
   "execution_count": 23,
   "metadata": {},
   "outputs": [
    {
     "ename": "AttributeError",
     "evalue": "'DataLoader' object has no attribute 'device'",
     "output_type": "error",
     "traceback": [
      "\u001b[0;31m---------------------------------------------------------------------------\u001b[0m",
      "\u001b[0;31mAttributeError\u001b[0m                            Traceback (most recent call last)",
      "\u001b[1;32m/Users/kerstjens/msc_thesis/msc_thesis/SNN.ipynb Cell 20'\u001b[0m in \u001b[0;36m<cell line: 1>\u001b[0;34m()\u001b[0m\n\u001b[0;32m----> <a href='vscode-notebook-cell://ssh-remote%2Bgpu4/Users/kerstjens/msc_thesis/msc_thesis/SNN.ipynb#ch0000031vscode-remote?line=0'>1</a>\u001b[0m dataloader_train\u001b[39m.\u001b[39;49mdevice\n",
      "\u001b[0;31mAttributeError\u001b[0m: 'DataLoader' object has no attribute 'device'"
     ]
    }
   ],
   "source": []
  },
  {
   "cell_type": "code",
   "execution_count": 34,
   "metadata": {},
   "outputs": [],
   "source": [
    "from LIFlayer import NHiddenModel\n",
    "\n",
    "model = NHiddenModel(num_hidden_layers=1,in_channels=200,hidden_channels=200,out_channels=4).to(device)"
   ]
  },
  {
   "cell_type": "code",
   "execution_count": 36,
   "metadata": {},
   "outputs": [
    {
     "data": {
      "text/plain": [
       "device(type='cuda', index=0)"
      ]
     },
     "execution_count": 36,
     "metadata": {},
     "output_type": "execute_result"
    }
   ],
   "source": [
    "W.device"
   ]
  },
  {
   "cell_type": "code",
   "execution_count": 38,
   "metadata": {},
   "outputs": [
    {
     "name": "stdout",
     "output_type": "stream",
     "text": [
      "epoch 0: \n",
      " loss: 1.4267343282699585\n",
      "train_acc: 0.25218749046325684\n",
      "epoch 1: \n",
      " loss: 1.3956773281097412\n",
      "train_acc: 0.2634374797344208\n",
      "epoch 2: \n",
      " loss: 1.3896615505218506\n",
      "train_acc: 0.2540624737739563\n",
      "epoch 3: \n",
      " loss: 1.3771122694015503\n",
      "train_acc: 0.28593751788139343\n",
      "epoch 4: \n",
      " loss: 1.3054797649383545\n",
      "train_acc: 0.3965623676776886\n",
      "epoch 5: \n",
      " loss: 1.1721967458724976\n",
      "train_acc: 0.56968754529953\n",
      "epoch 6: \n",
      " loss: 1.0190174579620361\n",
      "train_acc: 0.70250004529953\n",
      "epoch 7: \n",
      " loss: 0.8414143919944763\n",
      "train_acc: 0.8134373426437378\n",
      "epoch 8: \n",
      " loss: 0.6223592162132263\n",
      "train_acc: 0.8943747878074646\n",
      "epoch 9: \n",
      " loss: 0.522743821144104\n",
      "train_acc: 0.9053124189376831\n",
      "epoch 10: \n",
      " loss: 0.353916198015213\n",
      "train_acc: 0.9312499165534973\n",
      "epoch 11: \n",
      " loss: 0.4170617461204529\n",
      "train_acc: 0.875312328338623\n",
      "epoch 12: \n",
      " loss: 0.3798607289791107\n",
      "train_acc: 0.86781245470047\n",
      "epoch 13: \n",
      " loss: 0.6435477137565613\n",
      "train_acc: 0.7699999809265137\n",
      "epoch 14: \n",
      " loss: 0.48099517822265625\n",
      "train_acc: 0.8006250262260437\n",
      "epoch 15: \n",
      " loss: 0.4144163727760315\n",
      "train_acc: 0.9056249856948853\n",
      "epoch 16: \n",
      " loss: 0.4732604920864105\n",
      "train_acc: 0.7965624332427979\n",
      "epoch 17: \n",
      " loss: 0.4089045524597168\n",
      "train_acc: 0.8506249189376831\n",
      "epoch 18: \n",
      " loss: 0.7463696599006653\n",
      "train_acc: 0.831250011920929\n",
      "epoch 19: \n",
      " loss: 0.5328397154808044\n",
      "train_acc: 0.8818750381469727\n",
      "epoch 20: \n",
      " loss: 0.5060323476791382\n",
      "train_acc: 0.9181250333786011\n",
      "epoch 21: \n",
      " loss: 0.20499585568904877\n",
      "train_acc: 0.9053125381469727\n",
      "epoch 22: \n",
      " loss: 0.5360185503959656\n",
      "train_acc: 0.9115625619888306\n",
      "epoch 23: \n",
      " loss: 0.3821144104003906\n",
      "train_acc: 0.8878123760223389\n",
      "epoch 24: \n",
      " loss: 0.06164369359612465\n",
      "train_acc: 0.973437488079071\n",
      "epoch 25: \n",
      " loss: 0.5337486267089844\n",
      "train_acc: 0.8424999713897705\n",
      "epoch 26: \n",
      " loss: 0.2987428307533264\n",
      "train_acc: 0.9500000476837158\n",
      "epoch 27: \n",
      " loss: 0.5872607231140137\n",
      "train_acc: 0.9140625596046448\n",
      "epoch 28: \n",
      " loss: 0.3227134048938751\n",
      "train_acc: 0.8309374451637268\n",
      "epoch 29: \n",
      " loss: 0.6666823625564575\n",
      "train_acc: 0.8815624713897705\n",
      "epoch 30: \n",
      " loss: 0.18439286947250366\n",
      "train_acc: 0.9040625095367432\n",
      "epoch 31: \n",
      " loss: 0.4843800663948059\n",
      "train_acc: 0.9090625047683716\n",
      "epoch 32: \n",
      " loss: 0.6962488293647766\n",
      "train_acc: 0.8553124070167542\n",
      "epoch 33: \n",
      " loss: 0.4827004373073578\n",
      "train_acc: 0.908750057220459\n",
      "epoch 34: \n",
      " loss: 0.06740640103816986\n",
      "train_acc: 0.9750000238418579\n",
      "epoch 35: \n",
      " loss: 0.8497615456581116\n",
      "train_acc: 0.8859375715255737\n",
      "epoch 36: \n",
      " loss: 0.42311224341392517\n",
      "train_acc: 0.7834376096725464\n",
      "epoch 37: \n",
      " loss: 0.47470903396606445\n",
      "train_acc: 0.9318749904632568\n",
      "epoch 38: \n",
      " loss: 0.014390086755156517\n",
      "train_acc: 1.0\n",
      "epoch 39: \n",
      " loss: 0.362508088350296\n",
      "train_acc: 0.9581249952316284\n",
      "epoch 40: \n",
      " loss: 0.3859170973300934\n",
      "train_acc: 0.8843750357627869\n",
      "epoch 41: \n",
      " loss: 0.6438262462615967\n",
      "train_acc: 0.9259374737739563\n",
      "epoch 42: \n",
      " loss: 0.007790177129209042\n",
      "train_acc: 1.0\n",
      "epoch 43: \n",
      " loss: 0.6375280022621155\n",
      "train_acc: 0.8543750047683716\n",
      "epoch 44: \n",
      " loss: 0.002744241151958704\n",
      "train_acc: 1.0\n",
      "epoch 45: \n",
      " loss: 0.5539360046386719\n",
      "train_acc: 0.9549999833106995\n",
      "epoch 46: \n",
      " loss: 0.0023314785212278366\n",
      "train_acc: 1.0\n",
      "epoch 47: \n",
      " loss: 0.8223079442977905\n",
      "train_acc: 0.925000011920929\n",
      "epoch 48: \n",
      " loss: 0.003431775374338031\n",
      "train_acc: 1.0\n",
      "epoch 49: \n",
      " loss: 0.8381412625312805\n",
      "train_acc: 0.8846874833106995\n"
     ]
    }
   ],
   "source": [
    "loss, acc = train(T=100,dataloader_train=dataloader_train,nb_classes=4,model=model,use_W=True,use_W2=True,lr=1e-4,decay=.99,W=W,W2=W2,print_each=1,device=device)"
   ]
  },
  {
   "cell_type": "code",
   "execution_count": null,
   "metadata": {},
   "outputs": [],
   "source": [
    "model."
   ]
  },
  {
   "cell_type": "code",
   "execution_count": 55,
   "metadata": {},
   "outputs": [
    {
     "name": "stdout",
     "output_type": "stream",
     "text": [
      "epoch 0: \n",
      " loss: 1.7269775867462158\n",
      "train_acc: 0.5487499833106995\n",
      "epoch 5: \n",
      " loss: 0.6981631517410278\n",
      "train_acc: 0.5843749642372131\n",
      "epoch 10: \n",
      " loss: 0.6150588393211365\n",
      "train_acc: 0.6674998998641968\n",
      "epoch 15: \n",
      " loss: 0.5602189898490906\n",
      "train_acc: 0.6899999380111694\n",
      "epoch 20: \n",
      " loss: 0.38960620760917664\n",
      "train_acc: 0.8512499332427979\n",
      "epoch 25: \n",
      " loss: 0.26687148213386536\n",
      "train_acc: 0.9118749499320984\n",
      "epoch 30: \n",
      " loss: 0.17547133564949036\n",
      "train_acc: 0.93812495470047\n",
      "epoch 35: \n",
      " loss: 0.0912538468837738\n",
      "train_acc: 0.9706249237060547\n",
      "epoch 40: \n",
      " loss: 0.3988977074623108\n",
      "train_acc: 0.9099999070167542\n",
      "epoch 45: \n",
      " loss: 0.6095557808876038\n",
      "train_acc: 0.8943749666213989\n",
      "epoch 50: \n",
      " loss: 0.021608566865324974\n",
      "train_acc: 0.9975000023841858\n",
      "epoch 55: \n",
      " loss: 0.012993112206459045\n",
      "train_acc: 0.9993749856948853\n",
      "epoch 60: \n",
      " loss: 0.4422604739665985\n",
      "train_acc: 0.9368749260902405\n",
      "epoch 65: \n",
      " loss: 0.003700142726302147\n",
      "train_acc: 1.0\n",
      "epoch 70: \n",
      " loss: 0.017636405304074287\n",
      "train_acc: 1.0\n",
      "epoch 75: \n",
      " loss: 0.001163070322945714\n",
      "train_acc: 1.0\n",
      "epoch 80: \n",
      " loss: 0.0027892955113202333\n",
      "train_acc: 1.0\n",
      "epoch 85: \n",
      " loss: 0.00034573828452266753\n",
      "train_acc: 1.0\n",
      "epoch 90: \n",
      " loss: 0.006138085853308439\n",
      "train_acc: 1.0\n",
      "epoch 95: \n",
      " loss: 0.0005184661131352186\n",
      "train_acc: 1.0\n"
     ]
    }
   ],
   "source": [
    "loss, acc = train(N,T,nb_classes,model,X_train,y_train,train_batch_ids,W=W,W2=W2,lr=1e-4,decay=.99,use_W=True,use_W2=True,print_each=5,epochs=100,device=device)"
   ]
  },
  {
   "cell_type": "code",
   "execution_count": 11,
   "metadata": {},
   "outputs": [
    {
     "data": {
      "text/plain": [
       "device(type='cuda', index=0)"
      ]
     },
     "execution_count": 11,
     "metadata": {},
     "output_type": "execute_result"
    }
   ],
   "source": [
    "model.layer2.fc_layer.weight.data.device"
   ]
  },
  {
   "cell_type": "code",
   "execution_count": 58,
   "metadata": {},
   "outputs": [
    {
     "name": "stdout",
     "output_type": "stream",
     "text": [
      "val_acc: 1.0\n"
     ]
    }
   ],
   "source": [
    "val_acc,_,_ = validation_acc(X_test,y_test,model,test_batch_ids)\n",
    "#val_acc_hist = val_acc_hist + [val_acc]\n",
    "print(f'val_acc: {val_acc}')"
   ]
  },
  {
   "cell_type": "code",
   "execution_count": 14,
   "metadata": {},
   "outputs": [
    {
     "data": {
      "text/plain": [
       "torch.Size([800, 100, 100])"
      ]
     },
     "execution_count": 14,
     "metadata": {},
     "output_type": "execute_result"
    }
   ],
   "source": []
  },
  {
   "cell_type": "code",
   "execution_count": 64,
   "metadata": {},
   "outputs": [
    {
     "data": {
      "text/plain": [
       "<matplotlib.colorbar.Colorbar at 0x7fd1f3068820>"
      ]
     },
     "execution_count": 64,
     "metadata": {},
     "output_type": "execute_result"
    },
    {
     "data": {
      "image/png": "[encoded data removed]",
      "text/plain": [
       "<Figure size 432x288 with 2 Axes>"
      ]
     },
     "metadata": {
      "needs_background": "light"
     },
     "output_type": "display_data"
    }
   ],
   "source": [
    "plt.imshow(model.layer2.fc_layer.weight.data.cpu())\n",
    "plt.colorbar()"
   ]
  },
  {
   "cell_type": "code",
   "execution_count": 15,
   "metadata": {},
   "outputs": [],
   "source": [
    "data1, data2 = get_data_loaders(4,200,100,1000,50)"
   ]
  },
  {
   "cell_type": "code",
   "execution_count": 17,
   "metadata": {},
   "outputs": [
    {
     "name": "stdout",
     "output_type": "stream",
     "text": [
      "50\n",
      "50\n",
      "50\n",
      "50\n",
      "50\n",
      "50\n",
      "50\n",
      "50\n",
      "50\n",
      "50\n",
      "50\n",
      "50\n",
      "50\n",
      "50\n",
      "50\n",
      "50\n",
      "50\n",
      "50\n",
      "50\n",
      "50\n",
      "50\n",
      "50\n",
      "50\n",
      "50\n",
      "50\n",
      "50\n",
      "50\n",
      "50\n",
      "50\n",
      "50\n",
      "50\n",
      "50\n",
      "50\n",
      "50\n",
      "50\n",
      "50\n",
      "50\n",
      "50\n",
      "50\n",
      "50\n",
      "50\n",
      "50\n",
      "50\n",
      "50\n",
      "50\n",
      "50\n",
      "50\n",
      "50\n",
      "50\n",
      "50\n",
      "50\n",
      "50\n",
      "50\n",
      "50\n",
      "50\n",
      "50\n",
      "50\n",
      "50\n",
      "50\n",
      "50\n",
      "50\n",
      "50\n",
      "50\n",
      "50\n"
     ]
    }
   ],
   "source": [
    "data1.\n"
   ]
  },
  {
   "cell_type": "code",
   "execution_count": null,
   "metadata": {},
   "outputs": [],
   "source": []
  }
 ],
 "metadata": {
  "interpreter": {
   "hash": "6200234780f1abd365c930dddb95b38298813a9988d77a8785e770f4fc612d5b"
  },
  "kernelspec": {
   "display_name": "Python 3.8.7 ('.venv': venv)",
   "language": "python",
   "name": "python3"
  },
  "language_info": {
   "codemirror_mode": {
    "name": "ipython",
    "version": 3
   },
   "file_extension": ".py",
   "mimetype": "text/x-python",
   "name": "python",
   "nbconvert_exporter": "python",
   "pygments_lexer": "ipython3",
   "version": "3.8.10"
  },
  "orig_nbformat": 4
 },
 "nbformat": 4,
 "nbformat_minor": 2
}
