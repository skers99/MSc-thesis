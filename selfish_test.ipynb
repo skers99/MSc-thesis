{
 "cells": [
  {
   "cell_type": "code",
   "execution_count": 9,
   "metadata": {},
   "outputs": [],
   "source": [
    "from Selfish_RNN.sparse_rnn_core import Masking, CosineDecay\n",
    "from randman_data import get_data_loaders\n",
    "from LIFlayer import NHiddenModel\n",
    "import torch\n",
    "from tqdm import trange\n"
   ]
  },
  {
   "cell_type": "code",
   "execution_count": 10,
   "metadata": {},
   "outputs": [
    {
     "name": "stdout",
     "output_type": "stream",
     "text": [
      "device: cpu\n"
     ]
    }
   ],
   "source": [
    "if torch.cuda.is_available():\n",
    "    device = torch.device(\"cuda\")\n",
    "    print(f'device: {device}')\n",
    "else:\n",
    "    device = torch.device(\"cpu\")\n",
    "    print(f'device: {device}')"
   ]
  },
  {
   "cell_type": "code",
   "execution_count": 11,
   "metadata": {},
   "outputs": [],
   "source": [
    "#data generation vars \n",
    "nb_classes = 4\n",
    "nb_units = 100\n",
    "nb_steps = 100\n",
    "nb_samples = 1000\n",
    "batch_size = 100\n",
    "\n",
    "dataloader_train, dataloader_test = get_data_loaders(nb_classes,nb_units,nb_steps,nb_samples,batch_size)\n",
    "\n",
    "#model vars\n",
    "num_hidden_layers = 4\n",
    "hidden_size = 100\n",
    "in_size = nb_units\n",
    "out_size = nb_classes\n",
    "\n",
    "#training vars\n",
    "epochs=20\n",
    "\n",
    "#masking vars\n",
    "death_rate = 1\n",
    "decay_steps = len(dataloader_train) * epochs\n",
    "density = .9\n",
    "\n"
   ]
  },
  {
   "cell_type": "code",
   "execution_count": 12,
   "metadata": {},
   "outputs": [],
   "source": [
    "model = NHiddenModel(num_hidden_layers,in_size,hidden_size,out_size,with_recurrent=False).to(device)\n",
    "optimizer = torch.optim.Adam(model.parameters(),lr=1e-3)\n",
    "mask = None\n",
    "#cos_decay = CosineDecay(death_rate,decay_steps)\n",
    "#mask = Masking(optimizer,death_rate_decay=cos_decay,death_rate=1)\n",
    "#mask.add_module(model,density=density)\n",
    "#mask.init(density=density) probably not needed"
   ]
  },
  {
   "cell_type": "code",
   "execution_count": 13,
   "metadata": {},
   "outputs": [
    {
     "name": "stderr",
     "output_type": "stream",
     "text": [
      "accuracy: 0.9684375040233135:  25%|██▌       | 5/20 [00:42<02:08,  8.57s/it] \n"
     ]
    },
    {
     "ename": "KeyboardInterrupt",
     "evalue": "",
     "output_type": "error",
     "traceback": [
      "\u001b[0;31m---------------------------------------------------------------------------\u001b[0m",
      "\u001b[0;31mKeyboardInterrupt\u001b[0m                         Traceback (most recent call last)",
      "\u001b[1;32m/Users/svenkerstjens/msc-thesis/MSc-thesis/selfish_test.ipynb Cell 5'\u001b[0m in \u001b[0;36m<cell line: 4>\u001b[0;34m()\u001b[0m\n\u001b[1;32m     <a href='vscode-notebook-cell:/Users/svenkerstjens/msc-thesis/MSc-thesis/selfish_test.ipynb#ch0000004?line=11'>12</a>\u001b[0m optimizer\u001b[39m.\u001b[39mzero_grad()\n\u001b[1;32m     <a href='vscode-notebook-cell:/Users/svenkerstjens/msc-thesis/MSc-thesis/selfish_test.ipynb#ch0000004?line=12'>13</a>\u001b[0m \u001b[39mfor\u001b[39;00m n \u001b[39min\u001b[39;00m \u001b[39mrange\u001b[39m(nb_steps):\n\u001b[0;32m---> <a href='vscode-notebook-cell:/Users/svenkerstjens/msc-thesis/MSc-thesis/selfish_test.ipynb#ch0000004?line=13'>14</a>\u001b[0m     out_state \u001b[39m=\u001b[39m model(x[:,n])\n\u001b[1;32m     <a href='vscode-notebook-cell:/Users/svenkerstjens/msc-thesis/MSc-thesis/selfish_test.ipynb#ch0000004?line=14'>15</a>\u001b[0m     Sprobe \u001b[39m=\u001b[39m decay \u001b[39m*\u001b[39m Sprobe \u001b[39m+\u001b[39m out_state\u001b[39m.\u001b[39mS\n\u001b[1;32m     <a href='vscode-notebook-cell:/Users/svenkerstjens/msc-thesis/MSc-thesis/selfish_test.ipynb#ch0000004?line=16'>17</a>\u001b[0m prediction \u001b[39m=\u001b[39m Sprobe\n",
      "File \u001b[0;32m~/msc-thesis/MSc-thesis/.venv/lib/python3.8/site-packages/torch/nn/modules/module.py:1110\u001b[0m, in \u001b[0;36mModule._call_impl\u001b[0;34m(self, *input, **kwargs)\u001b[0m\n\u001b[1;32m   <a href='file:///Users/svenkerstjens/msc-thesis/MSc-thesis/.venv/lib/python3.8/site-packages/torch/nn/modules/module.py?line=1105'>1106</a>\u001b[0m \u001b[39m# If we don't have any hooks, we want to skip the rest of the logic in\u001b[39;00m\n\u001b[1;32m   <a href='file:///Users/svenkerstjens/msc-thesis/MSc-thesis/.venv/lib/python3.8/site-packages/torch/nn/modules/module.py?line=1106'>1107</a>\u001b[0m \u001b[39m# this function, and just call forward.\u001b[39;00m\n\u001b[1;32m   <a href='file:///Users/svenkerstjens/msc-thesis/MSc-thesis/.venv/lib/python3.8/site-packages/torch/nn/modules/module.py?line=1107'>1108</a>\u001b[0m \u001b[39mif\u001b[39;00m \u001b[39mnot\u001b[39;00m (\u001b[39mself\u001b[39m\u001b[39m.\u001b[39m_backward_hooks \u001b[39mor\u001b[39;00m \u001b[39mself\u001b[39m\u001b[39m.\u001b[39m_forward_hooks \u001b[39mor\u001b[39;00m \u001b[39mself\u001b[39m\u001b[39m.\u001b[39m_forward_pre_hooks \u001b[39mor\u001b[39;00m _global_backward_hooks\n\u001b[1;32m   <a href='file:///Users/svenkerstjens/msc-thesis/MSc-thesis/.venv/lib/python3.8/site-packages/torch/nn/modules/module.py?line=1108'>1109</a>\u001b[0m         \u001b[39mor\u001b[39;00m _global_forward_hooks \u001b[39mor\u001b[39;00m _global_forward_pre_hooks):\n\u001b[0;32m-> <a href='file:///Users/svenkerstjens/msc-thesis/MSc-thesis/.venv/lib/python3.8/site-packages/torch/nn/modules/module.py?line=1109'>1110</a>\u001b[0m     \u001b[39mreturn\u001b[39;00m forward_call(\u001b[39m*\u001b[39;49m\u001b[39minput\u001b[39;49m, \u001b[39m*\u001b[39;49m\u001b[39m*\u001b[39;49mkwargs)\n\u001b[1;32m   <a href='file:///Users/svenkerstjens/msc-thesis/MSc-thesis/.venv/lib/python3.8/site-packages/torch/nn/modules/module.py?line=1110'>1111</a>\u001b[0m \u001b[39m# Do not call functions when jit is used\u001b[39;00m\n\u001b[1;32m   <a href='file:///Users/svenkerstjens/msc-thesis/MSc-thesis/.venv/lib/python3.8/site-packages/torch/nn/modules/module.py?line=1111'>1112</a>\u001b[0m full_backward_hooks, non_full_backward_hooks \u001b[39m=\u001b[39m [], []\n",
      "File \u001b[0;32m~/msc-thesis/MSc-thesis/LIFlayer.py:280\u001b[0m, in \u001b[0;36mNHiddenModel.forward\u001b[0;34m(self, Sin)\u001b[0m\n\u001b[1;32m    <a href='file:///Users/svenkerstjens/msc-thesis/MSc-thesis/LIFlayer.py?line=277'>278</a>\u001b[0m \u001b[39m#states = torch.tensor([])\u001b[39;00m\n\u001b[1;32m    <a href='file:///Users/svenkerstjens/msc-thesis/MSc-thesis/LIFlayer.py?line=278'>279</a>\u001b[0m \u001b[39mfor\u001b[39;00m layer \u001b[39min\u001b[39;00m \u001b[39mself\u001b[39m\u001b[39m.\u001b[39mlayers:\n\u001b[0;32m--> <a href='file:///Users/svenkerstjens/msc-thesis/MSc-thesis/LIFlayer.py?line=279'>280</a>\u001b[0m     state \u001b[39m=\u001b[39m layer(spikes)\n\u001b[1;32m    <a href='file:///Users/svenkerstjens/msc-thesis/MSc-thesis/LIFlayer.py?line=280'>281</a>\u001b[0m     spikes \u001b[39m=\u001b[39m state\u001b[39m.\u001b[39mS\n\u001b[1;32m    <a href='file:///Users/svenkerstjens/msc-thesis/MSc-thesis/LIFlayer.py?line=281'>282</a>\u001b[0m     \u001b[39m#states = torch.cat((states,spikes))\u001b[39;00m\n",
      "File \u001b[0;32m~/msc-thesis/MSc-thesis/.venv/lib/python3.8/site-packages/torch/nn/modules/module.py:1110\u001b[0m, in \u001b[0;36mModule._call_impl\u001b[0;34m(self, *input, **kwargs)\u001b[0m\n\u001b[1;32m   <a href='file:///Users/svenkerstjens/msc-thesis/MSc-thesis/.venv/lib/python3.8/site-packages/torch/nn/modules/module.py?line=1105'>1106</a>\u001b[0m \u001b[39m# If we don't have any hooks, we want to skip the rest of the logic in\u001b[39;00m\n\u001b[1;32m   <a href='file:///Users/svenkerstjens/msc-thesis/MSc-thesis/.venv/lib/python3.8/site-packages/torch/nn/modules/module.py?line=1106'>1107</a>\u001b[0m \u001b[39m# this function, and just call forward.\u001b[39;00m\n\u001b[1;32m   <a href='file:///Users/svenkerstjens/msc-thesis/MSc-thesis/.venv/lib/python3.8/site-packages/torch/nn/modules/module.py?line=1107'>1108</a>\u001b[0m \u001b[39mif\u001b[39;00m \u001b[39mnot\u001b[39;00m (\u001b[39mself\u001b[39m\u001b[39m.\u001b[39m_backward_hooks \u001b[39mor\u001b[39;00m \u001b[39mself\u001b[39m\u001b[39m.\u001b[39m_forward_hooks \u001b[39mor\u001b[39;00m \u001b[39mself\u001b[39m\u001b[39m.\u001b[39m_forward_pre_hooks \u001b[39mor\u001b[39;00m _global_backward_hooks\n\u001b[1;32m   <a href='file:///Users/svenkerstjens/msc-thesis/MSc-thesis/.venv/lib/python3.8/site-packages/torch/nn/modules/module.py?line=1108'>1109</a>\u001b[0m         \u001b[39mor\u001b[39;00m _global_forward_hooks \u001b[39mor\u001b[39;00m _global_forward_pre_hooks):\n\u001b[0;32m-> <a href='file:///Users/svenkerstjens/msc-thesis/MSc-thesis/.venv/lib/python3.8/site-packages/torch/nn/modules/module.py?line=1109'>1110</a>\u001b[0m     \u001b[39mreturn\u001b[39;00m forward_call(\u001b[39m*\u001b[39;49m\u001b[39minput\u001b[39;49m, \u001b[39m*\u001b[39;49m\u001b[39m*\u001b[39;49mkwargs)\n\u001b[1;32m   <a href='file:///Users/svenkerstjens/msc-thesis/MSc-thesis/.venv/lib/python3.8/site-packages/torch/nn/modules/module.py?line=1110'>1111</a>\u001b[0m \u001b[39m# Do not call functions when jit is used\u001b[39;00m\n\u001b[1;32m   <a href='file:///Users/svenkerstjens/msc-thesis/MSc-thesis/.venv/lib/python3.8/site-packages/torch/nn/modules/module.py?line=1111'>1112</a>\u001b[0m full_backward_hooks, non_full_backward_hooks \u001b[39m=\u001b[39m [], []\n",
      "File \u001b[0;32m~/msc-thesis/MSc-thesis/LIFlayer.py:53\u001b[0m, in \u001b[0;36mLIFDensePopulation.forward\u001b[0;34m(self, Sin_t)\u001b[0m\n\u001b[1;32m     <a href='file:///Users/svenkerstjens/msc-thesis/MSc-thesis/LIFlayer.py?line=50'>51</a>\u001b[0m state \u001b[39m=\u001b[39m \u001b[39mself\u001b[39m\u001b[39m.\u001b[39mstate\n\u001b[1;32m     <a href='file:///Users/svenkerstjens/msc-thesis/MSc-thesis/LIFlayer.py?line=51'>52</a>\u001b[0m U \u001b[39m=\u001b[39m \u001b[39mself\u001b[39m\u001b[39m.\u001b[39malpha\u001b[39m*\u001b[39mstate\u001b[39m.\u001b[39mU \u001b[39m+\u001b[39m (\u001b[39m1\u001b[39m\u001b[39m-\u001b[39m\u001b[39mself\u001b[39m\u001b[39m.\u001b[39malpha) \u001b[39m*\u001b[39m \u001b[39m20\u001b[39m \u001b[39m*\u001b[39m state\u001b[39m.\u001b[39mI \u001b[39m-\u001b[39m state\u001b[39m.\u001b[39mS\u001b[39m.\u001b[39mdetach() \u001b[39m#mem\u001b[39;00m\n\u001b[0;32m---> <a href='file:///Users/svenkerstjens/msc-thesis/MSc-thesis/LIFlayer.py?line=52'>53</a>\u001b[0m I \u001b[39m=\u001b[39m \u001b[39mself\u001b[39m\u001b[39m.\u001b[39mbeta\u001b[39m*\u001b[39mstate\u001b[39m.\u001b[39mI \u001b[39m+\u001b[39m (\u001b[39m1\u001b[39;49m\u001b[39m-\u001b[39;49m\u001b[39mself\u001b[39;49m\u001b[39m.\u001b[39;49mbeta) \u001b[39m*\u001b[39;49m \u001b[39mself\u001b[39;49m\u001b[39m.\u001b[39;49mfc_layer(Sin_t) \u001b[39m#syn\u001b[39;00m\n\u001b[1;32m     <a href='file:///Users/svenkerstjens/msc-thesis/MSc-thesis/LIFlayer.py?line=53'>54</a>\u001b[0m \u001b[39m# update the neuronal state\u001b[39;00m\n\u001b[1;32m     <a href='file:///Users/svenkerstjens/msc-thesis/MSc-thesis/LIFlayer.py?line=54'>55</a>\u001b[0m S \u001b[39m=\u001b[39m smooth_step(U)\n",
      "\u001b[0;31mKeyboardInterrupt\u001b[0m: "
     ]
    }
   ],
   "source": [
    "ce_loss = torch.nn.CrossEntropyLoss()\n",
    "decay = .99\n",
    "tepochs = trange(epochs,desc=f'accuracy')\n",
    "for e in tepochs:\n",
    "    mean_loss = []\n",
    "    mean_acc = []\n",
    "    for x,label in dataloader_train:\n",
    "        model.init_states()\n",
    "        Sprobe = torch.zeros((dataloader_train.batch_size,model.out_channels),device=device)\n",
    "        x = x.to(device)\n",
    "        label=label.to(device)\n",
    "        optimizer.zero_grad()\n",
    "        for n in range(nb_steps):\n",
    "            out_state = model(x[:,n])\n",
    "            Sprobe = decay * Sprobe + out_state.S\n",
    "        \n",
    "        prediction = Sprobe\n",
    "        accuracy = (label == prediction.argmax(axis=1)).sum()/len(prediction)\n",
    "        loss = ce_loss(prediction,label)\n",
    "        mean_loss.append(loss.item())\n",
    "        mean_acc.append(accuracy.item())\n",
    "        loss.backward()\n",
    "        if mask is not None: mask.step()\n",
    "        else: optimizer.step()\n",
    "\n",
    "    \n",
    "    mean_loss = sum(mean_loss)/len(dataloader_train)\n",
    "    mean_acc = sum(mean_acc)/len(dataloader_train)\n",
    "    tepochs.set_description(f'accuracy: {mean_acc}')\n",
    "#    plt.imshow(model.layers[0].fc_layer.weight.data.cpu())\n",
    " #   plt.colorbar()\n",
    " #   plt.show()\n",
    "\n",
    "            "
   ]
  },
  {
   "cell_type": "code",
   "execution_count": 30,
   "metadata": {},
   "outputs": [
    {
     "data": {
      "text/plain": [
       "4.499911785125732"
      ]
     },
     "execution_count": 30,
     "metadata": {},
     "output_type": "execute_result"
    }
   ],
   "source": [
    "loss.item()"
   ]
  },
  {
   "cell_type": "code",
   "execution_count": 40,
   "metadata": {},
   "outputs": [
    {
     "data": {
      "text/plain": [
       "<matplotlib.colorbar.Colorbar at 0x7f3f6ab8d730>"
      ]
     },
     "execution_count": 40,
     "metadata": {},
     "output_type": "execute_result"
    },
    {
     "data": {
      "image/png": "[encoded data removed]",
      "text/plain": [
       "<Figure size 432x288 with 2 Axes>"
      ]
     },
     "metadata": {
      "needs_background": "light"
     },
     "output_type": "display_data"
    }
   ],
   "source": [
    "import matplotlib.pyplot as plt\n",
    "\n",
    "plt.imshow(model.layers[0].fc_layer.weight.data.cpu())\n",
    "plt.colorbar()"
   ]
  },
  {
   "cell_type": "code",
   "execution_count": 26,
   "metadata": {},
   "outputs": [
    {
     "data": {
      "text/plain": [
       "tensor(0., device='cuda:0')"
      ]
     },
     "execution_count": 26,
     "metadata": {},
     "output_type": "execute_result"
    }
   ],
   "source": []
  },
  {
   "cell_type": "code",
   "execution_count": null,
   "metadata": {},
   "outputs": [],
   "source": []
  }
 ],
 "metadata": {
  "interpreter": {
   "hash": "fa49628190029e2d0794fd6aac1f35e1d10c3ca2aaa40697d2a44a2aa6659ca3"
  },
  "kernelspec": {
   "display_name": "Python 3.8.10 ('.venv': venv)",
   "language": "python",
   "name": "python3"
  },
  "language_info": {
   "codemirror_mode": {
    "name": "ipython",
    "version": 3
   },
   "file_extension": ".py",
   "mimetype": "text/x-python",
   "name": "python",
   "nbconvert_exporter": "python",
   "pygments_lexer": "ipython3",
   "version": "3.8.10"
  },
  "orig_nbformat": 4
 },
 "nbformat": 4,
 "nbformat_minor": 2
}
